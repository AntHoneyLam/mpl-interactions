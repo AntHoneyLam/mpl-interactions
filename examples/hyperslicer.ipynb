{
 "cells": [
  {
   "cell_type": "markdown",
   "metadata": {},
   "source": [
    "# Hyperslicer Tutorial\n",
    "John Russell September 2020\n",
    "\n",
    "The hyperslicer function is meant to make it easier to explore imaging hyperstacks. It was designed with hyperspectral Coherent Raman Scattering in mind but should be useful for other advanced microscopy modalities such as FLIM and would play nicely with standard xyzt type stacks.\n",
    "\n",
    "Currently this minimal version simply takes an arrary whose last two dimension are the image dimensions and all previous dimensions are taken to represent other slices of the hyperstack. It will automatically generate IntSliders that select the the relevant slice along each dimension of the input array. \n",
    "\n",
    "The example here uses a hyperspectral stimulated raman scattering stack of beads that are Raman active at different wavenumbers (No need to worry about the specifics but if you're interested, the experimental setup is very similar to what is described [here](https://pubs.acs.org/doi/abs/10.1021/jp308938t). You can download the dataset from [here](https://github.com/jrussell25/data-sharing/raw/master/srs_beads.npy). You can see the two different species with the larger beads (PMMA) peaking around frame 63 and the smaller beads (Polystyrene) peaking around frame 110."
   ]
  },
  {
   "cell_type": "code",
   "execution_count": null,
   "metadata": {},
   "outputs": [],
   "source": [
    "import numpy as np\n",
    "import matplotlib.pyplot as plt\n",
    "import requests\n",
    "import io\n",
    "from mpl_interactions import hyperslicer\n",
    "%matplotlib ipympl"
   ]
  },
  {
   "cell_type": "code",
   "execution_count": null,
   "metadata": {},
   "outputs": [],
   "source": [
    "response = requests.get('https://github.com/jrussell25/data-sharing/raw/master/srs_beads.npy')\n",
    "response.raise_for_status()\n",
    "beads = np.load(io.BytesIO(response.content)) "
   ]
  },
  {
   "cell_type": "code",
   "execution_count": null,
   "metadata": {},
   "outputs": [],
   "source": [
    "fig1, ax1, control1 = hyperslicer(beads, vmin=0, vmax=255)"
   ]
  },
  {
   "cell_type": "code",
   "execution_count": null,
   "metadata": {},
   "outputs": [],
   "source": [
    "beads4d = np.linspace(0,1,25)[:,None,None,None]*np.stack([beads for i in range(25)])"
   ]
  },
  {
   "cell_type": "markdown",
   "metadata": {},
   "source": [
    "`beads4d` adds a linear scale from 0-1 over the intensities at each wavenumber and demonstrates the generalization to higher dimensional stacks."
   ]
  },
  {
   "cell_type": "code",
   "execution_count": null,
   "metadata": {},
   "outputs": [],
   "source": [
    "fig2, ax2, controls2 = hyperslicer(beads4d, vmin=0, vmax=255)"
   ]
  },
  {
   "cell_type": "markdown",
   "metadata": {},
   "source": [
    "You can also provide names and or limits to map the sliders from the integers to other numbers. For instance in the `beads4d` dataset, we can replace the first dimension with the relative intensity of the image in [0,1] and the first dimension with the relevant spectrosocpic values, Raman wavenumbers. Below shows several valid ways to generate these hyperslicers."
   ]
  },
  {
   "cell_type": "code",
   "execution_count": null,
   "metadata": {},
   "outputs": [],
   "source": [
    "wns = np.linspace(2798.6521739130435, 3064.95652173913, beads4d.shape[1])"
   ]
  },
  {
   "cell_type": "code",
   "execution_count": null,
   "metadata": {},
   "outputs": [],
   "source": [
    "fig3, ax3, controls3 = hyperslicer(beads4d, vmin=0, vmax=255, \n",
    "                                   axis0=(0,1), axis1=wns,\n",
    "                                   names=('linear', 'wavenums')\n",
    "                                   )"
   ]
  },
  {
   "cell_type": "markdown",
   "metadata": {},
   "source": [
    "Instead of specifying the values for each axis and the names separately, one can use the `axes` keyword argument which expects a 2-tuple for each axis containing `(name, (start, stop))` or `(name, slider_value_array)`."
   ]
  },
  {
   "cell_type": "code",
   "execution_count": null,
   "metadata": {},
   "outputs": [],
   "source": [
    "fig4, ax4, controls4 = hyperslicer(beads4d, vmin=0, vmax=255, \n",
    "                                   axes=(('linear', (0,1)),('wavenums', wns))\n",
    "                                   )"
   ]
  },
  {
   "cell_type": "markdown",
   "metadata": {},
   "source": [
    "If you're looking for ImageJ/FIJI type experience, adding play buttons is a nice touch."
   ]
  },
  {
   "cell_type": "code",
   "execution_count": null,
   "metadata": {},
   "outputs": [],
   "source": [
    "fig5, ax5, controls5 = hyperslicer(beads4d, vmin=0, vmax=255, \n",
    "                                   axes=(('linear', (0,1)),('wavenums', wns)),\n",
    "                                   play_buttons=True, play_button_pos='left'\n",
    "                                   )"
   ]
  },
  {
   "cell_type": "markdown",
   "metadata": {},
   "source": [
    "### Other ways of specifying axes\n",
    "\n",
    "All of the below are valid calls"
   ]
  },
  {
   "cell_type": "code",
   "execution_count": null,
   "metadata": {},
   "outputs": [],
   "source": [
    "# fig4, ax4, controls4 = hyperslicer(beads4d, vmin=0, vmax=255, \n",
    "#                                    axes=(('linear', (0,1)),('wavenums', wns))\n",
    "#                                    )\n",
    "# fig4, ax4, controls4 = hyperslicer(beads4d, vmin=0, vmax=255, \n",
    "#                                    axes=(('linear', (0,1)),'wavenums')\n",
    "#                                    )\n",
    "# fig4, ax4, controls4 = hyperslicer(beads4d, vmin=0, vmax=255, \n",
    "#                                    axes=(('linear', 0,1),'wavenums')\n",
    "#                                    )\n",
    "# fig4, ax4, controls4 = hyperslicer(beads4d, vmin=0, vmax=255, \n",
    "#                                    axes=((0,1),'wavenums')\n",
    "#                                    )"
   ]
  }
 ],
 "metadata": {
  "kernelspec": {
   "display_name": "Python 3",
   "language": "python",
   "name": "python3"
  },
  "language_info": {
   "codemirror_mode": {
    "name": "ipython",
    "version": 3
   },
   "file_extension": ".py",
   "mimetype": "text/x-python",
   "name": "python",
   "nbconvert_exporter": "python",
   "pygments_lexer": "ipython3",
   "version": "3.7.8"
  }
 },
 "nbformat": 4,
 "nbformat_minor": 4
}
