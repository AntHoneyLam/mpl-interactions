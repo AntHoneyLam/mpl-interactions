{
 "cells": [
  {
   "cell_type": "code",
   "execution_count": null,
   "metadata": {},
   "outputs": [],
   "source": [
    "%matplotlib ipympl\n",
    "import matplotlib.pyplot as plt\n",
    "import numpy as np\n",
    "from mpl_interactions import interactive_plot, interactive_plot_factory\n",
    "import ipywidgets as widgets"
   ]
  },
  {
   "cell_type": "markdown",
   "metadata": {},
   "source": [
    "# Interactive line plots\n",
    "\n",
    "\n",
    "## Simplest example\n",
    "\n",
    "Here is an example with no extra arguments or styling so that the example looks nice and compact + simple."
   ]
  },
  {
   "cell_type": "code",
   "execution_count": null,
   "metadata": {},
   "outputs": [],
   "source": [
    "x = np.linspace(0,np.pi,100)\n",
    "tau = np.linspace(1,10, 100)\n",
    "beta = np.linspace(1,10)\n",
    "def f(x, tau, beta):\n",
    "    return np.sin(x*tau)*x**beta\n",
    "fig, ax, sliders = interactive_plot(f, x=x, tau = tau, beta = beta)"
   ]
  },
  {
   "cell_type": "markdown",
   "metadata": {},
   "source": [
    "### Troubleshooting\n",
    "If instead of a plot you got an output that looks like this:\n",
    "`VBox([IntSlider(min=0, max=10 .....`\n",
    "and you are using jupyterlab then you probably need to install jupyterlab-manager:\n",
    "```bash\n",
    "conda install -c conda-forge nodejs=12\n",
    "jupyter labextension install @jupyter-widgets/jupyterlab-manager\n",
    "```\n",
    "after the install and finishes refresh the browser page and it should work"
   ]
  },
  {
   "cell_type": "markdown",
   "metadata": {},
   "source": [
    "### set parameters with tuples\n",
    "\n",
    "When you use tuples with length of 2 or 3 as a parameter then it will be treated as an argument to linspace. So the below example is equivalent to first example"
   ]
  },
  {
   "cell_type": "code",
   "execution_count": null,
   "metadata": {},
   "outputs": [],
   "source": [
    "fig, ax, sliders = interactive_plot(f, x=x, tau = (1, 10, 100), beta = (1, 10 ))"
   ]
  },
  {
   "cell_type": "markdown",
   "metadata": {},
   "source": [
    "### Use sets for categorical values\n",
    "\n",
    "sets with three or fewer items will be rendered as checkboxs, while with more they will use the selection widget. Unfortunately sets are instrinsically disordered so if you use a set you cannot garuntee the order of the categoricals. To get around this if you have a set of single tuple it will be ordered. i.e. `{('sin', 'cos')}` will show up in the order: sin, cos. While `{'sin', 'cos'}` will show up in the order: cos, sin"
   ]
  },
  {
   "cell_type": "code",
   "execution_count": null,
   "metadata": {},
   "outputs": [],
   "source": [
    "\n",
    "def f(x, tau, beta, type_):\n",
    "    if type_ == 'sin':\n",
    "        return np.sin(x*tau)*x**beta\n",
    "    elif type_ =='cos':\n",
    "        return np.cos(x*tau)*x**beta\n",
    "        \n",
    "fig, ax, sliders = interactive_plot(f, x=x, tau = (1, 10, 100), beta = (1, 10 ), type_ = {('sin', 'cos', 'beep','boop')})"
   ]
  },
  {
   "cell_type": "markdown",
   "metadata": {},
   "source": [
    "## Using widgets for as parameters\n",
    "\n",
    "You can also pass an `ipywidgets` widget that has a `value` attribute"
   ]
  },
  {
   "cell_type": "code",
   "execution_count": null,
   "metadata": {},
   "outputs": [],
   "source": [
    "\n",
    "def f(x, tau, beta, type_):\n",
    "    if type_ == 'sin':\n",
    "        return np.sin(x*tau)*x**beta\n",
    "    elif type_ =='cos':\n",
    "        return np.cos(x*tau)*x**beta\n",
    "        \n",
    "tau = widgets.FloatText(value = 7, step = .1)\n",
    "fig, ax, sliders = interactive_plot(f, x=x, tau = tau, beta = (1, 10 ), type_ = {('sin', 'cos')})"
   ]
  },
  {
   "cell_type": "markdown",
   "metadata": {},
   "source": [
    "## With multiple functions + showcase automatic legend\n",
    "\n",
    "You can compare multiple functions by providing a list of functions. If you do not explicitly provide a label the name of the function will be used as the label so you can still differentiate them in a legend."
   ]
  },
  {
   "cell_type": "code",
   "execution_count": null,
   "metadata": {},
   "outputs": [],
   "source": [
    "\n",
    "x = np.linspace(0,np.pi,100)\n",
    "tau = np.linspace(.5, 10, 100)\n",
    "beta = np.linspace(1, 10, 100)\n",
    "def f1(x, tau, beta):\n",
    "    return np.sin(x*tau)*x*beta\n",
    "def f2(x, tau, beta):\n",
    "    return np.sin(x*beta)*x*tau\n",
    "fig, ax, sliders = interactive_plot([f1, f2], x=x, tau = tau, beta = beta)\n",
    "plt.legend()"
   ]
  },
  {
   "cell_type": "markdown",
   "metadata": {},
   "source": [
    "## Styling of plot\n",
    "\n",
    "You can either use the figure and axis objects returned by the function, or if the figure is the current active figure the standard `plt.__` commands should work as expected. You can also provide explict plot_kwargs to the `plt.plot` command that is used internally using the plot_kwargs argument\n",
    "\n",
    "You can control how `xlim`/`ylim`s behave using the `x_scale`/`y_scale` arguments. The options are:\n",
    "1. `stretch`\n",
    "    - never shrink the x/y axis but will expand it to fit larger values\n",
    "2. `auto`\n",
    "    - autoscale the x/y axis for every plot update\n",
    "3. `fixed`\n",
    "    - always used the initial values of the limits\n",
    "4. a tuple\n",
    "    - You can pass a value such as `[-4,5]` to have the limits not be updated by moving the sliders.\n",
    "    \n",
    "    \n",
    "### Title\n",
    "\n",
    "You can make the title auto update with information about the values by using the `title` argument. Just use the name of one of the parameters as in a format specifier in the string. e.g. to put the value of `tau` in and round it to two decimals use the following title string: `{'tau:.2f}'`"
   ]
  },
  {
   "cell_type": "code",
   "execution_count": null,
   "metadata": {},
   "outputs": [],
   "source": [
    "x = np.linspace(0,np.pi,100)\n",
    "tau = np.linspace(1,10,100)\n",
    "def f(tau):\n",
    "    return [np.sin(x*tau)*x**tau, x*tau]\n",
    "interactive_plot(f,tau=tau,x_scale='stretch',y_scale='auto',plot_kwargs={'label':'interactive!'}, title='the value of tau is: {tau:.2f}')\n",
    "\n",
    "#you can still use plt commands if this is the active figure\n",
    "plt.ylabel('yikes a ylabel!')\n",
    "\n",
    "# you can new lines - though they won't be updated interactively.\n",
    "plt.plot(x,np.sin(x),label='Added after, not interactive')\n",
    "\n",
    "_  = plt.legend() # _ to capture the annoying output that would otherwise appear\n"
   ]
  },
  {
   "cell_type": "markdown",
   "metadata": {},
   "source": [
    "### Slider precision\n",
    "\n",
    "You can change the precision of individual slider displays by passing `slider_format_string` as a dictionary. In the below cell we give tau 99 decimal points of precision and use scientific notation to display it. The other sliders will use the default 1 decimal point of precision. \n"
   ]
  },
  {
   "cell_type": "code",
   "execution_count": null,
   "metadata": {},
   "outputs": [],
   "source": [
    "\n",
    "x = np.linspace(0,np.pi,100)\n",
    "tau = np.linspace(.5, 10, 100)\n",
    "beta = np.linspace(1, 10, 100)\n",
    "def f1(x, tau, beta):\n",
    "    return np.sin(x*tau)*x*beta\n",
    "def f2(x, tau, beta):\n",
    "    return np.sin(x*beta)*x*tau\n",
    "fig, ax, sliders = interactive_plot([f1, f2], x=x, tau = tau, beta = beta, slider_format_string = {\"tau\": '{:.99e}'})\n",
    "_ = plt.legend()"
   ]
  },
  {
   "cell_type": "markdown",
   "metadata": {},
   "source": [
    "### fixed y-scale\n",
    "\n",
    "\n",
    "You can also set `yscale` to anything the matplotlib will accept as a `ylim` "
   ]
  },
  {
   "cell_type": "code",
   "execution_count": null,
   "metadata": {},
   "outputs": [],
   "source": [
    "x = np.linspace(0,np.pi,100)\n",
    "tau = np.linspace(1,10,100)\n",
    "def f(x,tau):\n",
    "    return np.sin(x*tau)*x**tau\n",
    "interactive_plot(f,x, tau=tau, y_scale=[-3,4],plot_kwargs={'label':'interactive!'})\n",
    "\n",
    "#you can still use plt commands if this is the active figure\n",
    "plt.ylabel('yikes a ylabel!')\n",
    "plt.title('Fixed ylim')\n",
    "\n",
    "# you can new lines - though they won't be updated interactively.\n",
    "plt.plot(x,np.sin(x),label='Added after, not interactive')\n",
    "\n",
    "_  = plt.legend() # _ to capture the annoying output that would otherwise appear\n"
   ]
  },
  {
   "cell_type": "markdown",
   "metadata": {},
   "source": [
    "## Controlling layout\n",
    "\n",
    "If you want more control over the layout then you can use the argument `display=False` and use the returned elements to place the figure and sliders whereever you would like. If you want even more control then you should use `interactive_plot_factory` which will not make any choices about display and that you can provide a matplotlib.axis to. That has it own example below\n",
    "\n",
    "However even just using the returned values gives you enough flexibility to make questionable layout choices like so:"
   ]
  },
  {
   "cell_type": "code",
   "execution_count": null,
   "metadata": {},
   "outputs": [],
   "source": [
    "from ipywidgets import HBox, VBox\n",
    "fig, ax, sliders = interactive_plot([f1, f2], x=x, tau = tau, beta = beta, display=False)\n",
    "HBox([sliders, VBox([sliders,fig.canvas,sliders]), sliders])"
   ]
  },
  {
   "cell_type": "markdown",
   "metadata": {},
   "source": [
    "## interactive_plot_factory\n",
    "\n",
    "This function will not wrap the sliders into VBox for you, it will return them as a list. It also takes a matplotlib axis as a required argument so you are responsible for creating and displaying the figure. In the below example I split up the sliders across multiple cells just to demonstrate that you can (though you probably should not)"
   ]
  },
  {
   "cell_type": "code",
   "execution_count": null,
   "metadata": {},
   "outputs": [],
   "source": [
    "plt.ioff(); fig, (ax1, ax2) = plt.subplots(1,2); plt.ion()\n",
    "ax2.set_title('a totally separate axis', fontsize=14)\n",
    "ax2.plot(f2(x, -.4, 3))\n",
    "sliders = interactive_plot_factory(ax1, [f1, f2], x=x, tau = tau, beta = beta)\n",
    "ax1.legend()\n",
    "display(sliders[0])"
   ]
  },
  {
   "cell_type": "code",
   "execution_count": null,
   "metadata": {},
   "outputs": [],
   "source": [
    "VBox([*sliders[1:], fig.canvas])"
   ]
  }
 ],
 "metadata": {
  "kernelspec": {
   "display_name": "Python 3",
   "language": "python",
   "name": "python3"
  },
  "language_info": {
   "codemirror_mode": {
    "name": "ipython",
    "version": 3
   },
   "file_extension": ".py",
   "mimetype": "text/x-python",
   "name": "python",
   "nbconvert_exporter": "python",
   "pygments_lexer": "ipython3",
   "version": "3.8.3"
  },
  "widgets": {
   "application/vnd.jupyter.widget-state+json": {
    "state": {
     "018d091099894504a8202398bec5c691": {
      "model_module": "@jupyter-widgets/base",
      "model_module_version": "1.2.0",
      "model_name": "LayoutModel",
      "state": {}
     },
     "01d42a3e14fc4f418f3b2cc781dc4cfe": {
      "model_module": "@jupyter-widgets/base",
      "model_module_version": "1.2.0",
      "model_name": "LayoutModel",
      "state": {}
     },
     "021f49b0d8e1401fa267fd3d12284bdc": {
      "model_module": "@jupyter-widgets/controls",
      "model_module_version": "1.5.0",
      "model_name": "VBoxModel",
      "state": {
       "children": [
        "IPY_MODEL_d140790d70f2406cb04cbb51400b37a4",
        "IPY_MODEL_5a5329a3adcd421bb953dcfbfd7d1de3"
       ],
       "layout": "IPY_MODEL_022110cd66674db79d8c43a635ed98a0"
      }
     },
     "022110cd66674db79d8c43a635ed98a0": {
      "model_module": "@jupyter-widgets/base",
      "model_module_version": "1.2.0",
      "model_name": "LayoutModel",
      "state": {}
     },
     "027798042c3c4ee3b392629d08ab321e": {
      "model_module": "@jupyter-widgets/base",
      "model_module_version": "1.2.0",
      "model_name": "LayoutModel",
      "state": {}
     },
     "0386f6ad12ef430d9101a44e6f97fae9": {
      "model_module": "jupyter-matplotlib",
      "model_module_version": "^0.7.3",
      "model_name": "MPLCanvasModel",
      "state": {
       "_cursor": "default",
       "_figure_label": "Figure 1",
       "_height": 479,
       "_width": 640,
       "layout": "IPY_MODEL_989ed0d324ec4c1c9c0dac3cf38a6384",
       "toolbar": "IPY_MODEL_394563149a5d46949bbdf5d0c1e2302c",
       "toolbar_position": "left"
      }
     },
     "060bd710402041d489151100097ffe0a": {
      "model_module": "@jupyter-widgets/controls",
      "model_module_version": "1.5.0",
      "model_name": "HBoxModel",
      "state": {
       "children": [
        "IPY_MODEL_482096d6fcdb4f43b6e15b4f331f52c5",
        "IPY_MODEL_f08feaf31fac48b0bf3bde23ca3c099a"
       ],
       "layout": "IPY_MODEL_509638f997804f1799f8ec880fb930ab"
      }
     },
     "06212942a45c4cdd974527931a5ece1f": {
      "model_module": "@jupyter-widgets/base",
      "model_module_version": "1.2.0",
      "model_name": "LayoutModel",
      "state": {}
     },
     "07c78117153245748e46138d276fe6f1": {
      "model_module": "@jupyter-widgets/controls",
      "model_module_version": "1.5.0",
      "model_name": "DescriptionStyleModel",
      "state": {
       "description_width": ""
      }
     },
     "08ab18f91b5448d6b5ba1ab03733a312": {
      "model_module": "@jupyter-widgets/controls",
      "model_module_version": "1.5.0",
      "model_name": "LabelModel",
      "state": {
       "layout": "IPY_MODEL_a034ebbb003f412c8969f6f03b058662",
       "style": "IPY_MODEL_5a197420287e4a4f9fdac8fe1a6508a4",
       "value": "1.8"
      }
     },
     "08ec124e3a1b46518ce17b73413b42c4": {
      "model_module": "jupyter-matplotlib",
      "model_module_version": "^0.7.3",
      "model_name": "ToolbarModel",
      "state": {
       "layout": "IPY_MODEL_63fda0de6bda4960ad60631dddd40b25",
       "toolitems": [
        [
         "Home",
         "Reset original view",
         "home",
         "home"
        ],
        [
         "Back",
         "Back to previous view",
         "arrow-left",
         "back"
        ],
        [
         "Forward",
         "Forward to next view",
         "arrow-right",
         "forward"
        ],
        [
         "Pan",
         "Pan axes with left mouse, zoom with right",
         "arrows",
         "pan"
        ],
        [
         "Zoom",
         "Zoom to rectangle",
         "square-o",
         "zoom"
        ],
        [
         "Download",
         "Download plot",
         "floppy-o",
         "save_figure"
        ]
       ]
      }
     },
     "0912f3badbbf413289d046cb07e63de3": {
      "model_module": "@jupyter-widgets/base",
      "model_module_version": "1.2.0",
      "model_name": "LayoutModel",
      "state": {}
     },
     "0abd0b79c04f4e0d924e32e0a38fa0c2": {
      "model_module": "@jupyter-widgets/base",
      "model_module_version": "1.2.0",
      "model_name": "LayoutModel",
      "state": {}
     },
     "0c39f97f1de545b7922e0f384603cb17": {
      "model_module": "@jupyter-widgets/controls",
      "model_module_version": "1.5.0",
      "model_name": "IntSliderModel",
      "state": {
       "description": "beta",
       "layout": "IPY_MODEL_4d667fdba66947729e0911f308c5ef70",
       "max": 99,
       "readout": false,
       "style": "IPY_MODEL_960af51907904beb8c2613bae64f4840",
       "value": 48
      }
     },
     "0c5ab0b9f70a48a5966b6d75058d5171": {
      "model_module": "@jupyter-widgets/controls",
      "model_module_version": "1.5.0",
      "model_name": "DescriptionStyleModel",
      "state": {
       "description_width": ""
      }
     },
     "0c8fa1edcc184d47885498d30f595aa7": {
      "model_module": "@jupyter-widgets/base",
      "model_module_version": "1.2.0",
      "model_name": "LayoutModel",
      "state": {}
     },
     "0dc2efa5929145679ee40aab0e169e61": {
      "model_module": "@jupyter-widgets/base",
      "model_module_version": "1.2.0",
      "model_name": "LayoutModel",
      "state": {}
     },
     "0f106aa1df504356aafa4b6379ba4736": {
      "model_module": "@jupyter-widgets/base",
      "model_module_version": "1.2.0",
      "model_name": "LayoutModel",
      "state": {}
     },
     "0ff8b121478b48eb9c2ffebc16e9c7a1": {
      "model_module": "jupyter-matplotlib",
      "model_module_version": "^0.7.3",
      "model_name": "MPLCanvasModel",
      "state": {
       "_cursor": "default",
       "_figure_label": "Figure 3",
       "_height": 479,
       "_image_mode": "diff",
       "_width": 640,
       "layout": "IPY_MODEL_a631646323a1498da30269bb06cabb2e",
       "toolbar": "IPY_MODEL_5f017ba94bf2495885ce6d1bd9af93b0",
       "toolbar_position": "left"
      }
     },
     "11cbace0307f4f8e9ce14603261e1fd0": {
      "model_module": "@jupyter-widgets/base",
      "model_module_version": "1.2.0",
      "model_name": "LayoutModel",
      "state": {}
     },
     "125c0b71f0b3403e95e614a43f0571e4": {
      "model_module": "@jupyter-widgets/controls",
      "model_module_version": "1.5.0",
      "model_name": "SliderStyleModel",
      "state": {
       "description_width": ""
      }
     },
     "132558ab3a3b4293a53f5a02df0902d0": {
      "model_module": "@jupyter-widgets/base",
      "model_module_version": "1.2.0",
      "model_name": "LayoutModel",
      "state": {}
     },
     "1768de22042b4fda9e512fed4d86a957": {
      "model_module": "@jupyter-widgets/base",
      "model_module_version": "1.2.0",
      "model_name": "LayoutModel",
      "state": {}
     },
     "19234301e38c423db5dcc46cf0ba868c": {
      "model_module": "@jupyter-widgets/controls",
      "model_module_version": "1.5.0",
      "model_name": "LabelModel",
      "state": {
       "layout": "IPY_MODEL_69d9a12340804ca7a21098093ab48aa1",
       "style": "IPY_MODEL_69682632f961467aa53257460e0b3e56",
       "value": "1.0"
      }
     },
     "19aa223aded14a13812484389e7d4492": {
      "model_module": "jupyter-matplotlib",
      "model_module_version": "^0.7.3",
      "model_name": "ToolbarModel",
      "state": {
       "layout": "IPY_MODEL_58bc42f656e44fd7b5ba42d358c60888",
       "toolitems": [
        [
         "Home",
         "Reset original view",
         "home",
         "home"
        ],
        [
         "Back",
         "Back to previous view",
         "arrow-left",
         "back"
        ],
        [
         "Forward",
         "Forward to next view",
         "arrow-right",
         "forward"
        ],
        [
         "Pan",
         "Pan axes with left mouse, zoom with right",
         "arrows",
         "pan"
        ],
        [
         "Zoom",
         "Zoom to rectangle",
         "square-o",
         "zoom"
        ],
        [
         "Download",
         "Download plot",
         "floppy-o",
         "save_figure"
        ]
       ]
      }
     },
     "1abce606df1047098fd13e0f8c54c4b0": {
      "model_module": "@jupyter-widgets/controls",
      "model_module_version": "1.5.0",
      "model_name": "SliderStyleModel",
      "state": {
       "description_width": ""
      }
     },
     "1cb994cf1b754a0abb31ca97093ba99a": {
      "model_module": "@jupyter-widgets/base",
      "model_module_version": "1.2.0",
      "model_name": "LayoutModel",
      "state": {}
     },
     "1f74de2ec51547e9b0db085a7357cf19": {
      "model_module": "@jupyter-widgets/controls",
      "model_module_version": "1.5.0",
      "model_name": "VBoxModel",
      "state": {
       "children": [
        "IPY_MODEL_e927efd4fdb24520b98f3bbccdf354a7",
        "IPY_MODEL_ad3735d21bf340f48d5ef74fe80bf413"
       ],
       "layout": "IPY_MODEL_6e4ac719d05c413cb5b76b13540c8ab1"
      }
     },
     "1f84759fae244581aa436fd1da8d26e8": {
      "model_module": "@jupyter-widgets/controls",
      "model_module_version": "1.5.0",
      "model_name": "DescriptionStyleModel",
      "state": {
       "description_width": ""
      }
     },
     "226e9c174b584edd851583cf737a1bb2": {
      "model_module": "@jupyter-widgets/controls",
      "model_module_version": "1.5.0",
      "model_name": "VBoxModel",
      "state": {
       "children": [
        "IPY_MODEL_ce65d7ef38cd4dfa95ee1f261a0bd688",
        "IPY_MODEL_0ff8b121478b48eb9c2ffebc16e9c7a1"
       ],
       "layout": "IPY_MODEL_e28f4cde75554ec6a9421cf9dafdf931"
      }
     },
     "22d7bf4653fb41b78a1a7b4e5c75e91d": {
      "model_module": "@jupyter-widgets/controls",
      "model_module_version": "1.5.0",
      "model_name": "VBoxModel",
      "state": {
       "children": [
        "IPY_MODEL_021f49b0d8e1401fa267fd3d12284bdc",
        "IPY_MODEL_6585311c411e443b98a96d10a419af0c"
       ],
       "layout": "IPY_MODEL_3cdc369522064d08a1d7cb59b21217d9"
      }
     },
     "23d43b66f8e8429ab3911cc364735aba": {
      "model_module": "@jupyter-widgets/controls",
      "model_module_version": "1.5.0",
      "model_name": "VBoxModel",
      "state": {
       "children": [
        "IPY_MODEL_c13fc160c24941798088500c08f5a063",
        "IPY_MODEL_aa1529c4aa5a4bbaa663fbe66e3c8dd2"
       ],
       "layout": "IPY_MODEL_1cb994cf1b754a0abb31ca97093ba99a"
      }
     },
     "24f2352f4f0d4c50b7e9d0a38cf8739f": {
      "model_module": "@jupyter-widgets/base",
      "model_module_version": "1.2.0",
      "model_name": "LayoutModel",
      "state": {}
     },
     "253fed4178e74253a49c560932829f90": {
      "model_module": "jupyter-matplotlib",
      "model_module_version": "^0.7.3",
      "model_name": "MPLCanvasModel",
      "state": {
       "_cursor": "default",
       "_figure_label": "Figure 9",
       "_height": 479,
       "_width": 640,
       "layout": "IPY_MODEL_018d091099894504a8202398bec5c691",
       "toolbar": "IPY_MODEL_334283b20ab7471eb9c9bc00b6e98828",
       "toolbar_position": "left"
      }
     },
     "25b12bec87364d2390d7e80317894417": {
      "model_module": "@jupyter-widgets/controls",
      "model_module_version": "1.5.0",
      "model_name": "SliderStyleModel",
      "state": {
       "description_width": ""
      }
     },
     "26993a6138914b388f48f8059a5448d3": {
      "model_module": "@jupyter-widgets/controls",
      "model_module_version": "1.5.0",
      "model_name": "HBoxModel",
      "state": {
       "children": [
        "IPY_MODEL_ae399ebffc3b4e938b04f79f0507f3b3",
        "IPY_MODEL_19234301e38c423db5dcc46cf0ba868c"
       ],
       "layout": "IPY_MODEL_f6ad929a8b2c4c84873075758c9dbc4b"
      }
     },
     "286185e3946a4ffeb9986c7b2948acec": {
      "model_module": "@jupyter-widgets/controls",
      "model_module_version": "1.5.0",
      "model_name": "DescriptionStyleModel",
      "state": {
       "description_width": ""
      }
     },
     "295ee65ca75f4c94b46a3aa70bc723f3": {
      "model_module": "@jupyter-widgets/base",
      "model_module_version": "1.2.0",
      "model_name": "LayoutModel",
      "state": {}
     },
     "2a02b2ccabaa43378a1019599cce5097": {
      "model_module": "@jupyter-widgets/controls",
      "model_module_version": "1.5.0",
      "model_name": "DescriptionStyleModel",
      "state": {
       "description_width": ""
      }
     },
     "2b4e239799a646698e88400468a729a7": {
      "model_module": "@jupyter-widgets/base",
      "model_module_version": "1.2.0",
      "model_name": "LayoutModel",
      "state": {}
     },
     "2b918466edf646e2b7462e04afee7799": {
      "model_module": "@jupyter-widgets/base",
      "model_module_version": "1.2.0",
      "model_name": "LayoutModel",
      "state": {}
     },
     "2cb4eb8fde9a40b7b9ec7e2f81dfca6c": {
      "model_module": "@jupyter-widgets/controls",
      "model_module_version": "1.5.0",
      "model_name": "SliderStyleModel",
      "state": {
       "description_width": ""
      }
     },
     "2cbe0fdf3f284fd4b3a7ca70bd867438": {
      "model_module": "@jupyter-widgets/controls",
      "model_module_version": "1.5.0",
      "model_name": "IntSliderModel",
      "state": {
       "description": "tau",
       "layout": "IPY_MODEL_c4b7db2433ba4c8a97bb3ba7a7dc9c7d",
       "max": 99,
       "readout": false,
       "style": "IPY_MODEL_2eb3eb16ba224e4ab2b77ea7a5994a26"
      }
     },
     "2e20c03ea2ae4f5480f002537e524613": {
      "model_module": "@jupyter-widgets/controls",
      "model_module_version": "1.5.0",
      "model_name": "VBoxModel",
      "state": {
       "children": [
        "IPY_MODEL_23d43b66f8e8429ab3911cc364735aba",
        "IPY_MODEL_0386f6ad12ef430d9101a44e6f97fae9"
       ],
       "layout": "IPY_MODEL_6f222519a96e4d4ebb743be1f261a614"
      }
     },
     "2eb3eb16ba224e4ab2b77ea7a5994a26": {
      "model_module": "@jupyter-widgets/controls",
      "model_module_version": "1.5.0",
      "model_name": "SliderStyleModel",
      "state": {
       "description_width": ""
      }
     },
     "334283b20ab7471eb9c9bc00b6e98828": {
      "model_module": "jupyter-matplotlib",
      "model_module_version": "^0.7.3",
      "model_name": "ToolbarModel",
      "state": {
       "layout": "IPY_MODEL_836b6aee29f44c7cac780b06f0f99a3f",
       "toolitems": [
        [
         "Home",
         "Reset original view",
         "home",
         "home"
        ],
        [
         "Back",
         "Back to previous view",
         "arrow-left",
         "back"
        ],
        [
         "Forward",
         "Forward to next view",
         "arrow-right",
         "forward"
        ],
        [
         "Pan",
         "Pan axes with left mouse, zoom with right",
         "arrows",
         "pan"
        ],
        [
         "Zoom",
         "Zoom to rectangle",
         "square-o",
         "zoom"
        ],
        [
         "Download",
         "Download plot",
         "floppy-o",
         "save_figure"
        ]
       ]
      }
     },
     "3811c496fda34b958619b1510ecdbac2": {
      "model_module": "@jupyter-widgets/controls",
      "model_module_version": "1.5.0",
      "model_name": "VBoxModel",
      "state": {
       "children": [
        "IPY_MODEL_973ce383bb1742b695e4235a8b87c0d5",
        "IPY_MODEL_060bd710402041d489151100097ffe0a"
       ],
       "layout": "IPY_MODEL_70c4d75ca2cb41cba1824b099c95005d"
      }
     },
     "394563149a5d46949bbdf5d0c1e2302c": {
      "model_module": "jupyter-matplotlib",
      "model_module_version": "^0.7.3",
      "model_name": "ToolbarModel",
      "state": {
       "layout": "IPY_MODEL_cceaf45acbfd4b229a3bee6588c5f34a",
       "toolitems": [
        [
         "Home",
         "Reset original view",
         "home",
         "home"
        ],
        [
         "Back",
         "Back to previous view",
         "arrow-left",
         "back"
        ],
        [
         "Forward",
         "Forward to next view",
         "arrow-right",
         "forward"
        ],
        [
         "Pan",
         "Pan axes with left mouse, zoom with right",
         "arrows",
         "pan"
        ],
        [
         "Zoom",
         "Zoom to rectangle",
         "square-o",
         "zoom"
        ],
        [
         "Download",
         "Download plot",
         "floppy-o",
         "save_figure"
        ]
       ]
      }
     },
     "3981422ea4054fae93258faa037794e6": {
      "model_module": "@jupyter-widgets/controls",
      "model_module_version": "1.5.0",
      "model_name": "DescriptionStyleModel",
      "state": {
       "description_width": ""
      }
     },
     "3bd19826e48c44569a2be175165a1c87": {
      "model_module": "@jupyter-widgets/controls",
      "model_module_version": "1.5.0",
      "model_name": "DescriptionStyleModel",
      "state": {
       "description_width": ""
      }
     },
     "3bf3f29aa0bd4501a5c998b517a0153b": {
      "model_module": "@jupyter-widgets/controls",
      "model_module_version": "1.5.0",
      "model_name": "IntSliderModel",
      "state": {
       "description": "beta",
       "layout": "IPY_MODEL_e457822c5ee34be49fb70ad46356f02c",
       "max": 49,
       "readout": false,
       "style": "IPY_MODEL_ec0d126aa6764eb1b57afbaefb6607bc"
      }
     },
     "3c1d254a6e464701b0a1c9f69f216dba": {
      "model_module": "@jupyter-widgets/controls",
      "model_module_version": "1.5.0",
      "model_name": "HBoxModel",
      "state": {
       "children": [
        "IPY_MODEL_5f906f6aecba4add9e924aefc4609bad",
        "IPY_MODEL_f8953c91ac674a3a9e8b1a6003114c03"
       ],
       "layout": "IPY_MODEL_9de7c382614841f3a33f094928b7d72b"
      }
     },
     "3cdc369522064d08a1d7cb59b21217d9": {
      "model_module": "@jupyter-widgets/base",
      "model_module_version": "1.2.0",
      "model_name": "LayoutModel",
      "state": {}
     },
     "40504cd34308467c9c43e471476ce230": {
      "model_module": "@jupyter-widgets/base",
      "model_module_version": "1.2.0",
      "model_name": "LayoutModel",
      "state": {}
     },
     "41064b6bc4dc43be8245bbbcd6b02f57": {
      "model_module": "@jupyter-widgets/controls",
      "model_module_version": "1.5.0",
      "model_name": "SliderStyleModel",
      "state": {
       "description_width": ""
      }
     },
     "41d0ce4042f440e49f40df038581d8ee": {
      "model_module": "@jupyter-widgets/base",
      "model_module_version": "1.2.0",
      "model_name": "LayoutModel",
      "state": {}
     },
     "42534774e5034581ac2ec95b0182b1e2": {
      "model_module": "@jupyter-widgets/base",
      "model_module_version": "1.2.0",
      "model_name": "LayoutModel",
      "state": {}
     },
     "42dda564dcac4ee2b1e44dcb7977da10": {
      "model_module": "@jupyter-widgets/controls",
      "model_module_version": "1.5.0",
      "model_name": "CheckboxModel",
      "state": {
       "disabled": false,
       "layout": "IPY_MODEL_1768de22042b4fda9e512fed4d86a957",
       "style": "IPY_MODEL_286185e3946a4ffeb9986c7b2948acec",
       "value": false
      }
     },
     "45109be2688a455db69a68a5f6294ed6": {
      "model_module": "@jupyter-widgets/controls",
      "model_module_version": "1.5.0",
      "model_name": "LabelModel",
      "state": {
       "layout": "IPY_MODEL_82af7eba86d14e359a2c26ea2c4fd8dd",
       "style": "IPY_MODEL_ad7ba185d8cb4792b7590df9f09f054b",
       "value": "4.5"
      }
     },
     "45a66cffb92642f9bc758840cb14bc8e": {
      "model_module": "@jupyter-widgets/base",
      "model_module_version": "1.2.0",
      "model_name": "LayoutModel",
      "state": {}
     },
     "47fdc45fad7f442e955c771759b72102": {
      "model_module": "@jupyter-widgets/controls",
      "model_module_version": "1.5.0",
      "model_name": "DescriptionStyleModel",
      "state": {
       "description_width": ""
      }
     },
     "482096d6fcdb4f43b6e15b4f331f52c5": {
      "model_module": "@jupyter-widgets/controls",
      "model_module_version": "1.5.0",
      "model_name": "IntSliderModel",
      "state": {
       "description": "beta",
       "layout": "IPY_MODEL_ed4c3f57d2cc428ca6b31e3f8bdc0fb6",
       "max": 49,
       "readout": false,
       "style": "IPY_MODEL_76a2f85a1baf4cb5b4217afacfd96491"
      }
     },
     "483cf03cd1384f8690db09fe1d36ec59": {
      "model_module": "@jupyter-widgets/controls",
      "model_module_version": "1.5.0",
      "model_name": "VBoxModel",
      "state": {
       "children": [
        "IPY_MODEL_3811c496fda34b958619b1510ecdbac2",
        "IPY_MODEL_8d69d42dcf1b4bb6b8c8949ce9877f73"
       ],
       "layout": "IPY_MODEL_41d0ce4042f440e49f40df038581d8ee"
      }
     },
     "4899a3f352dd420a9df435d8091ccf95": {
      "model_module": "jupyter-matplotlib",
      "model_module_version": "^0.7.3",
      "model_name": "MPLCanvasModel",
      "state": {
       "_cursor": "default",
       "_figure_label": "Figure 10",
       "_height": 479,
       "_image_mode": "diff",
       "_width": 640,
       "layout": "IPY_MODEL_bf6cdc8107184d308ea1661c9ad0279a",
       "toolbar": "IPY_MODEL_8c6162659c4649fb986152840c042872",
       "toolbar_position": "left"
      }
     },
     "4d667fdba66947729e0911f308c5ef70": {
      "model_module": "@jupyter-widgets/base",
      "model_module_version": "1.2.0",
      "model_name": "LayoutModel",
      "state": {}
     },
     "4ed03188d11a429ba285dd378d2b1988": {
      "model_module": "@jupyter-widgets/controls",
      "model_module_version": "1.5.0",
      "model_name": "LabelModel",
      "state": {
       "layout": "IPY_MODEL_06212942a45c4cdd974527931a5ece1f",
       "style": "IPY_MODEL_3bd19826e48c44569a2be175165a1c87",
       "value": "2.1"
      }
     },
     "4f45b2d2450d4df4be13ab05fcd79e00": {
      "model_module": "@jupyter-widgets/controls",
      "model_module_version": "1.5.0",
      "model_name": "IntSliderModel",
      "state": {
       "description": "tau",
       "layout": "IPY_MODEL_01d42a3e14fc4f418f3b2cc781dc4cfe",
       "max": 99,
       "readout": false,
       "style": "IPY_MODEL_41064b6bc4dc43be8245bbbcd6b02f57",
       "value": 17
      }
     },
     "509638f997804f1799f8ec880fb930ab": {
      "model_module": "@jupyter-widgets/base",
      "model_module_version": "1.2.0",
      "model_name": "LayoutModel",
      "state": {}
     },
     "5479b2cbaa3a4f27b0bfdc62b6b518cf": {
      "model_module": "@jupyter-widgets/controls",
      "model_module_version": "1.5.0",
      "model_name": "LabelModel",
      "state": {
       "layout": "IPY_MODEL_45a66cffb92642f9bc758840cb14bc8e",
       "style": "IPY_MODEL_9588417e2c724567a982e4746beb0b44",
       "value": "1.0"
      }
     },
     "54c09c2de4624e76825946c1daab2d5b": {
      "model_module": "@jupyter-widgets/controls",
      "model_module_version": "1.5.0",
      "model_name": "CheckboxModel",
      "state": {
       "disabled": false,
       "layout": "IPY_MODEL_2b918466edf646e2b7462e04afee7799",
       "style": "IPY_MODEL_cfb63491b99049c8b3b2d277f110a623",
       "value": true
      }
     },
     "5568e3a478bf4e81bdf846c02ac25709": {
      "model_module": "@jupyter-widgets/controls",
      "model_module_version": "1.5.0",
      "model_name": "DescriptionStyleModel",
      "state": {
       "description_width": ""
      }
     },
     "57aedbfefac94c49993cea0e1a4553d2": {
      "model_module": "@jupyter-widgets/base",
      "model_module_version": "1.2.0",
      "model_name": "LayoutModel",
      "state": {}
     },
     "58bc42f656e44fd7b5ba42d358c60888": {
      "model_module": "@jupyter-widgets/base",
      "model_module_version": "1.2.0",
      "model_name": "LayoutModel",
      "state": {}
     },
     "58e8fab7413f402c94003da5166b3004": {
      "model_module": "@jupyter-widgets/controls",
      "model_module_version": "1.5.0",
      "model_name": "HBoxModel",
      "state": {
       "children": [
        "IPY_MODEL_b0da160e7b42473bb3c131634cdbe21b",
        "IPY_MODEL_9b51b4d584b044bea41bb312f102eb22"
       ],
       "layout": "IPY_MODEL_786163a3cfb54c73aa9066157b605bfc"
      }
     },
     "5a197420287e4a4f9fdac8fe1a6508a4": {
      "model_module": "@jupyter-widgets/controls",
      "model_module_version": "1.5.0",
      "model_name": "DescriptionStyleModel",
      "state": {
       "description_width": ""
      }
     },
     "5a5329a3adcd421bb953dcfbfd7d1de3": {
      "model_module": "@jupyter-widgets/controls",
      "model_module_version": "1.5.0",
      "model_name": "HBoxModel",
      "state": {
       "children": [
        "IPY_MODEL_ea2f90596dda40dfb8a2843662b39c75",
        "IPY_MODEL_45109be2688a455db69a68a5f6294ed6"
       ],
       "layout": "IPY_MODEL_42534774e5034581ac2ec95b0182b1e2"
      }
     },
     "5b41d2dac1064a98992b489b65531b29": {
      "model_module": "@jupyter-widgets/controls",
      "model_module_version": "1.5.0",
      "model_name": "VBoxModel",
      "state": {
       "children": [
        "IPY_MODEL_eef99f8b4b364b7b816163e0612ee218",
        "IPY_MODEL_4899a3f352dd420a9df435d8091ccf95"
       ],
       "layout": "IPY_MODEL_0c8fa1edcc184d47885498d30f595aa7"
      }
     },
     "5f017ba94bf2495885ce6d1bd9af93b0": {
      "model_module": "jupyter-matplotlib",
      "model_module_version": "^0.7.3",
      "model_name": "ToolbarModel",
      "state": {
       "layout": "IPY_MODEL_2b4e239799a646698e88400468a729a7",
       "toolitems": [
        [
         "Home",
         "Reset original view",
         "home",
         "home"
        ],
        [
         "Back",
         "Back to previous view",
         "arrow-left",
         "back"
        ],
        [
         "Forward",
         "Forward to next view",
         "arrow-right",
         "forward"
        ],
        [
         "Pan",
         "Pan axes with left mouse, zoom with right",
         "arrows",
         "pan"
        ],
        [
         "Zoom",
         "Zoom to rectangle",
         "square-o",
         "zoom"
        ],
        [
         "Download",
         "Download plot",
         "floppy-o",
         "save_figure"
        ]
       ]
      }
     },
     "5f2765c8fa4d48f485e6993d108618b7": {
      "model_module": "jupyter-matplotlib",
      "model_module_version": "^0.7.3",
      "model_name": "ToolbarModel",
      "state": {
       "layout": "IPY_MODEL_c90560fc9d3a483e9132ebc79a1a2ca2",
       "toolitems": [
        [
         "Home",
         "Reset original view",
         "home",
         "home"
        ],
        [
         "Back",
         "Back to previous view",
         "arrow-left",
         "back"
        ],
        [
         "Forward",
         "Forward to next view",
         "arrow-right",
         "forward"
        ],
        [
         "Pan",
         "Pan axes with left mouse, zoom with right",
         "arrows",
         "pan"
        ],
        [
         "Zoom",
         "Zoom to rectangle",
         "square-o",
         "zoom"
        ],
        [
         "Download",
         "Download plot",
         "floppy-o",
         "save_figure"
        ]
       ]
      }
     },
     "5f906f6aecba4add9e924aefc4609bad": {
      "model_module": "@jupyter-widgets/controls",
      "model_module_version": "1.5.0",
      "model_name": "IntSliderModel",
      "state": {
       "description": "tau",
       "layout": "IPY_MODEL_bac51160b6e04125a501212d48b0d44e",
       "max": 99,
       "readout": false,
       "style": "IPY_MODEL_125c0b71f0b3403e95e614a43f0571e4",
       "value": 29
      }
     },
     "5f9080798f54403cbc0cf563cde527bb": {
      "model_module": "@jupyter-widgets/controls",
      "model_module_version": "1.5.0",
      "model_name": "LabelModel",
      "state": {
       "layout": "IPY_MODEL_743606c874cb4624a93ddc3acbe6b6e1",
       "style": "IPY_MODEL_2a02b2ccabaa43378a1019599cce5097",
       "value": "1.0"
      }
     },
     "603eabe0a0bb4830a63585a8e71c62a0": {
      "model_module": "@jupyter-widgets/base",
      "model_module_version": "1.2.0",
      "model_name": "LayoutModel",
      "state": {}
     },
     "63fda0de6bda4960ad60631dddd40b25": {
      "model_module": "@jupyter-widgets/base",
      "model_module_version": "1.2.0",
      "model_name": "LayoutModel",
      "state": {}
     },
     "6585311c411e443b98a96d10a419af0c": {
      "model_module": "jupyter-matplotlib",
      "model_module_version": "^0.7.3",
      "model_name": "MPLCanvasModel",
      "state": {
       "_cursor": "default",
       "_figure_label": "Figure 8",
       "_height": 479,
       "_image_mode": "diff",
       "_width": 640,
       "layout": "IPY_MODEL_e6816ab73d7a4eb1a1befd870c3f908d",
       "toolbar": "IPY_MODEL_08ec124e3a1b46518ce17b73413b42c4",
       "toolbar_position": "left"
      }
     },
     "69682632f961467aa53257460e0b3e56": {
      "model_module": "@jupyter-widgets/controls",
      "model_module_version": "1.5.0",
      "model_name": "DescriptionStyleModel",
      "state": {
       "description_width": ""
      }
     },
     "69d9a12340804ca7a21098093ab48aa1": {
      "model_module": "@jupyter-widgets/base",
      "model_module_version": "1.2.0",
      "model_name": "LayoutModel",
      "state": {}
     },
     "6b255c7178aa439eb986095ba717804f": {
      "model_module": "@jupyter-widgets/controls",
      "model_module_version": "1.5.0",
      "model_name": "VBoxModel",
      "state": {
       "children": [
        "IPY_MODEL_9e9bc0e7e54b4e349c28cc784bb0c0d1",
        "IPY_MODEL_add0f051adc845e993b123414763f3bd"
       ],
       "layout": "IPY_MODEL_603eabe0a0bb4830a63585a8e71c62a0"
      }
     },
     "6de6199116ad41ab8b63bf24066ab93e": {
      "model_module": "jupyter-matplotlib",
      "model_module_version": "^0.7.3",
      "model_name": "MPLCanvasModel",
      "state": {
       "_cursor": "default",
       "_figure_label": "Figure 7",
       "_height": 315,
       "_image_mode": "diff",
       "_width": 765,
       "layout": "IPY_MODEL_ad105f603ff643e6a07f5829343c0144",
       "toolbar": "IPY_MODEL_b3e48e17b867420f9aad440900ada21b",
       "toolbar_position": "left"
      }
     },
     "6e4ac719d05c413cb5b76b13540c8ab1": {
      "model_module": "@jupyter-widgets/base",
      "model_module_version": "1.2.0",
      "model_name": "LayoutModel",
      "state": {}
     },
     "6eda10106c984755b1ce2ec47fab468b": {
      "model_module": "@jupyter-widgets/base",
      "model_module_version": "1.2.0",
      "model_name": "LayoutModel",
      "state": {}
     },
     "6f222519a96e4d4ebb743be1f261a614": {
      "model_module": "@jupyter-widgets/base",
      "model_module_version": "1.2.0",
      "model_name": "LayoutModel",
      "state": {}
     },
     "70c4d75ca2cb41cba1824b099c95005d": {
      "model_module": "@jupyter-widgets/base",
      "model_module_version": "1.2.0",
      "model_name": "LayoutModel",
      "state": {}
     },
     "723afd9c76134a0192b1a44078254529": {
      "model_module": "jupyter-matplotlib",
      "model_module_version": "^0.7.3",
      "model_name": "ToolbarModel",
      "state": {
       "layout": "IPY_MODEL_b79b3dc26e2041468b0c24b47bf61d4f",
       "toolitems": [
        [
         "Home",
         "Reset original view",
         "home",
         "home"
        ],
        [
         "Back",
         "Back to previous view",
         "arrow-left",
         "back"
        ],
        [
         "Forward",
         "Forward to next view",
         "arrow-right",
         "forward"
        ],
        [
         "Pan",
         "Pan axes with left mouse, zoom with right",
         "arrows",
         "pan"
        ],
        [
         "Zoom",
         "Zoom to rectangle",
         "square-o",
         "zoom"
        ],
        [
         "Download",
         "Download plot",
         "floppy-o",
         "save_figure"
        ]
       ]
      }
     },
     "73289ea14f29441e8d7369d173821aee": {
      "model_module": "@jupyter-widgets/controls",
      "model_module_version": "1.5.0",
      "model_name": "HBoxModel",
      "state": {
       "children": [
        "IPY_MODEL_4f45b2d2450d4df4be13ab05fcd79e00",
        "IPY_MODEL_4ed03188d11a429ba285dd378d2b1988"
       ],
       "layout": "IPY_MODEL_6eda10106c984755b1ce2ec47fab468b"
      }
     },
     "743606c874cb4624a93ddc3acbe6b6e1": {
      "model_module": "@jupyter-widgets/base",
      "model_module_version": "1.2.0",
      "model_name": "LayoutModel",
      "state": {}
     },
     "7495fbaee677445897411536cc2ff5df": {
      "model_module": "@jupyter-widgets/controls",
      "model_module_version": "1.5.0",
      "model_name": "DescriptionStyleModel",
      "state": {
       "description_width": ""
      }
     },
     "74b918f439234034b90e0aae7ec50b48": {
      "model_module": "@jupyter-widgets/controls",
      "model_module_version": "1.5.0",
      "model_name": "RadioButtonsModel",
      "state": {
       "_options_labels": [
        "sin",
        "cos"
       ],
       "index": 0,
       "layout": "IPY_MODEL_b13e03af62d44aa2a52fda2199939202",
       "style": "IPY_MODEL_07c78117153245748e46138d276fe6f1"
      }
     },
     "74ba11ed72874086a35ff8ea57583254": {
      "model_module": "@jupyter-widgets/base",
      "model_module_version": "1.2.0",
      "model_name": "LayoutModel",
      "state": {}
     },
     "763c142beb284f6ca019456518f61365": {
      "model_module": "@jupyter-widgets/controls",
      "model_module_version": "1.5.0",
      "model_name": "IntSliderModel",
      "state": {
       "description": "tau",
       "layout": "IPY_MODEL_f6eb20fcd62f4dd2898b78667fdb9bd5",
       "max": 99,
       "readout": false,
       "style": "IPY_MODEL_e28f495a706643a8bacfbbadc3b82213",
       "value": 9
      }
     },
     "76a2f85a1baf4cb5b4217afacfd96491": {
      "model_module": "@jupyter-widgets/controls",
      "model_module_version": "1.5.0",
      "model_name": "SliderStyleModel",
      "state": {
       "description_width": ""
      }
     },
     "786163a3cfb54c73aa9066157b605bfc": {
      "model_module": "@jupyter-widgets/base",
      "model_module_version": "1.2.0",
      "model_name": "LayoutModel",
      "state": {}
     },
     "7be612ad77064e1d9d4c340d89834710": {
      "model_module": "@jupyter-widgets/base",
      "model_module_version": "1.2.0",
      "model_name": "LayoutModel",
      "state": {}
     },
     "7d283b67dd724494b70756be2ab997de": {
      "model_module": "@jupyter-widgets/base",
      "model_module_version": "1.2.0",
      "model_name": "LayoutModel",
      "state": {}
     },
     "80ccc8d25e1041be850c1ffc594b06e5": {
      "model_module": "@jupyter-widgets/base",
      "model_module_version": "1.2.0",
      "model_name": "LayoutModel",
      "state": {}
     },
     "82af7eba86d14e359a2c26ea2c4fd8dd": {
      "model_module": "@jupyter-widgets/base",
      "model_module_version": "1.2.0",
      "model_name": "LayoutModel",
      "state": {}
     },
     "836b6aee29f44c7cac780b06f0f99a3f": {
      "model_module": "@jupyter-widgets/base",
      "model_module_version": "1.2.0",
      "model_name": "LayoutModel",
      "state": {}
     },
     "83ff02745dbb44e3b6c3e7fa7f734a5d": {
      "model_module": "@jupyter-widgets/controls",
      "model_module_version": "1.5.0",
      "model_name": "SelectModel",
      "state": {
       "_options_labels": [
        "sin",
        "cos",
        "beep",
        "boop"
       ],
       "index": 0,
       "layout": "IPY_MODEL_a131d7b229494f2cb16f6e84cbdfe8ff",
       "style": "IPY_MODEL_1f84759fae244581aa436fd1da8d26e8"
      }
     },
     "84a232eeac5d4f1a969f82a62ba689f5": {
      "model_module": "@jupyter-widgets/controls",
      "model_module_version": "1.5.0",
      "model_name": "VBoxModel",
      "state": {
       "children": [
        "IPY_MODEL_911b5be08b1448deb7675cb219182deb",
        "IPY_MODEL_6de6199116ad41ab8b63bf24066ab93e"
       ],
       "layout": "IPY_MODEL_ad11bf16ec964f52a9a92b3dd7fd62ff"
      }
     },
     "87df4084a2cf418fac36d4310a5849eb": {
      "model_module": "@jupyter-widgets/base",
      "model_module_version": "1.2.0",
      "model_name": "LayoutModel",
      "state": {}
     },
     "88b012ed983542b5a02fb1106dc30ec7": {
      "model_module": "@jupyter-widgets/controls",
      "model_module_version": "1.5.0",
      "model_name": "IntSliderModel",
      "state": {
       "description": "beta",
       "layout": "IPY_MODEL_0912f3badbbf413289d046cb07e63de3",
       "max": 49,
       "readout": false,
       "style": "IPY_MODEL_2cb4eb8fde9a40b7b9ec7e2f81dfca6c"
      }
     },
     "8ad86fe9fddf47bfad31c1db9283604f": {
      "model_module": "@jupyter-widgets/controls",
      "model_module_version": "1.5.0",
      "model_name": "SliderStyleModel",
      "state": {
       "description_width": ""
      }
     },
     "8c610adceab74fa3b255b5ce7652a08a": {
      "model_module": "@jupyter-widgets/controls",
      "model_module_version": "1.5.0",
      "model_name": "DescriptionStyleModel",
      "state": {
       "description_width": ""
      }
     },
     "8c6162659c4649fb986152840c042872": {
      "model_module": "jupyter-matplotlib",
      "model_module_version": "^0.7.3",
      "model_name": "ToolbarModel",
      "state": {
       "layout": "IPY_MODEL_11cbace0307f4f8e9ce14603261e1fd0",
       "toolitems": [
        [
         "Home",
         "Reset original view",
         "home",
         "home"
        ],
        [
         "Back",
         "Back to previous view",
         "arrow-left",
         "back"
        ],
        [
         "Forward",
         "Forward to next view",
         "arrow-right",
         "forward"
        ],
        [
         "Pan",
         "Pan axes with left mouse, zoom with right",
         "arrows",
         "pan"
        ],
        [
         "Zoom",
         "Zoom to rectangle",
         "square-o",
         "zoom"
        ],
        [
         "Download",
         "Download plot",
         "floppy-o",
         "save_figure"
        ]
       ]
      }
     },
     "8d69d42dcf1b4bb6b8c8949ce9877f73": {
      "model_module": "jupyter-matplotlib",
      "model_module_version": "^0.7.3",
      "model_name": "MPLCanvasModel",
      "state": {
       "_cursor": "default",
       "_figure_label": "Figure 2",
       "_height": 479,
       "_image_mode": "diff",
       "_message": "x=1.38349      y=-0.07555    ",
       "_width": 640,
       "layout": "IPY_MODEL_24f2352f4f0d4c50b7e9d0a38cf8739f",
       "toolbar": "IPY_MODEL_5f2765c8fa4d48f485e6993d108618b7",
       "toolbar_position": "left"
      }
     },
     "8d95949798dd4911b5c052053fef4b99": {
      "model_module": "@jupyter-widgets/controls",
      "model_module_version": "1.5.0",
      "model_name": "DescriptionStyleModel",
      "state": {
       "description_width": ""
      }
     },
     "8f0f9f69660841b7bf610aebd0ffc88b": {
      "model_module": "@jupyter-widgets/controls",
      "model_module_version": "1.5.0",
      "model_name": "LabelModel",
      "state": {
       "layout": "IPY_MODEL_902ac27f42404d15a8783fb552b0efff",
       "style": "IPY_MODEL_8c610adceab74fa3b255b5ce7652a08a",
       "value": "5.4"
      }
     },
     "8f550083645d479c85499e3b5e153565": {
      "model_module": "@jupyter-widgets/controls",
      "model_module_version": "1.5.0",
      "model_name": "DescriptionStyleModel",
      "state": {
       "description_width": ""
      }
     },
     "902ac27f42404d15a8783fb552b0efff": {
      "model_module": "@jupyter-widgets/base",
      "model_module_version": "1.2.0",
      "model_name": "LayoutModel",
      "state": {}
     },
     "911b5be08b1448deb7675cb219182deb": {
      "model_module": "@jupyter-widgets/controls",
      "model_module_version": "1.5.0",
      "model_name": "VBoxModel",
      "state": {
       "children": [
        "IPY_MODEL_73289ea14f29441e8d7369d173821aee",
        "IPY_MODEL_58e8fab7413f402c94003da5166b3004"
       ],
       "layout": "IPY_MODEL_40504cd34308467c9c43e471476ce230"
      }
     },
     "9588417e2c724567a982e4746beb0b44": {
      "model_module": "@jupyter-widgets/controls",
      "model_module_version": "1.5.0",
      "model_name": "DescriptionStyleModel",
      "state": {
       "description_width": ""
      }
     },
     "960af51907904beb8c2613bae64f4840": {
      "model_module": "@jupyter-widgets/controls",
      "model_module_version": "1.5.0",
      "model_name": "SliderStyleModel",
      "state": {
       "description_width": ""
      }
     },
     "9671bcdaced444b0ab027be995895adf": {
      "model_module": "@jupyter-widgets/controls",
      "model_module_version": "1.5.0",
      "model_name": "LabelModel",
      "state": {
       "layout": "IPY_MODEL_dbe8865fde544ca4b1ab4c2c6ec4a0a2",
       "style": "IPY_MODEL_5568e3a478bf4e81bdf846c02ac25709",
       "value": "1.0"
      }
     },
     "973ce383bb1742b695e4235a8b87c0d5": {
      "model_module": "@jupyter-widgets/controls",
      "model_module_version": "1.5.0",
      "model_name": "HBoxModel",
      "state": {
       "children": [
        "IPY_MODEL_f68c73230a654086a0a770f327791d8f",
        "IPY_MODEL_5479b2cbaa3a4f27b0bfdc62b6b518cf"
       ],
       "layout": "IPY_MODEL_7d283b67dd724494b70756be2ab997de"
      }
     },
     "989ed0d324ec4c1c9c0dac3cf38a6384": {
      "model_module": "@jupyter-widgets/base",
      "model_module_version": "1.2.0",
      "model_name": "LayoutModel",
      "state": {}
     },
     "98ceea9881244694acc71d61126d21a3": {
      "model_module": "@jupyter-widgets/controls",
      "model_module_version": "1.5.0",
      "model_name": "DescriptionStyleModel",
      "state": {
       "description_width": ""
      }
     },
     "9b51b4d584b044bea41bb312f102eb22": {
      "model_module": "@jupyter-widgets/controls",
      "model_module_version": "1.5.0",
      "model_name": "LabelModel",
      "state": {
       "layout": "IPY_MODEL_9c47a1ca4c7a4622b790e0310614fc01",
       "style": "IPY_MODEL_0c5ab0b9f70a48a5966b6d75058d5171",
       "value": "2.9"
      }
     },
     "9c47a1ca4c7a4622b790e0310614fc01": {
      "model_module": "@jupyter-widgets/base",
      "model_module_version": "1.2.0",
      "model_name": "LayoutModel",
      "state": {}
     },
     "9de7c382614841f3a33f094928b7d72b": {
      "model_module": "@jupyter-widgets/base",
      "model_module_version": "1.2.0",
      "model_name": "LayoutModel",
      "state": {}
     },
     "9e9bc0e7e54b4e349c28cc784bb0c0d1": {
      "model_module": "@jupyter-widgets/controls",
      "model_module_version": "1.5.0",
      "model_name": "VBoxModel",
      "state": {
       "children": [
        "IPY_MODEL_a9224a20dddc48b888e03e8cd38e0d2e",
        "IPY_MODEL_ad331d43038b4165887082c25696bfb5",
        "IPY_MODEL_74b918f439234034b90e0aae7ec50b48"
       ],
       "layout": "IPY_MODEL_a8518a7b882048489e9056d63ed42228"
      }
     },
     "9f52b35d618f4b88bcdecfcb45f8c1a7": {
      "model_module": "@jupyter-widgets/base",
      "model_module_version": "1.2.0",
      "model_name": "LayoutModel",
      "state": {}
     },
     "a034ebbb003f412c8969f6f03b058662": {
      "model_module": "@jupyter-widgets/base",
      "model_module_version": "1.2.0",
      "model_name": "LayoutModel",
      "state": {}
     },
     "a12751209f0a41909370f520f25b800a": {
      "model_module": "@jupyter-widgets/controls",
      "model_module_version": "1.5.0",
      "model_name": "CheckboxModel",
      "state": {
       "disabled": false,
       "layout": "IPY_MODEL_d3c29a7c66174d178d7808007d2cf52d",
       "style": "IPY_MODEL_a7b2e8643bad4bb081f933b8846e180f",
       "value": true
      }
     },
     "a1293b65e1024a5f9f265dab991c9ed9": {
      "model_module": "@jupyter-widgets/controls",
      "model_module_version": "1.5.0",
      "model_name": "IntSliderModel",
      "state": {
       "description": "beta",
       "layout": "IPY_MODEL_d0df048fb06e467cab8b1495043be848",
       "max": 49,
       "readout": false,
       "style": "IPY_MODEL_8ad86fe9fddf47bfad31c1db9283604f"
      }
     },
     "a131d7b229494f2cb16f6e84cbdfe8ff": {
      "model_module": "@jupyter-widgets/base",
      "model_module_version": "1.2.0",
      "model_name": "LayoutModel",
      "state": {}
     },
     "a1ced1c54aec476c850c7080d7314af6": {
      "model_module": "@jupyter-widgets/base",
      "model_module_version": "1.2.0",
      "model_name": "LayoutModel",
      "state": {}
     },
     "a44af20ba8ce4cca83b9b9d341907286": {
      "model_module": "@jupyter-widgets/controls",
      "model_module_version": "1.5.0",
      "model_name": "DescriptionStyleModel",
      "state": {
       "description_width": ""
      }
     },
     "a5ea91dd311f46ab8ff0dfd8cf728f33": {
      "model_module": "@jupyter-widgets/base",
      "model_module_version": "1.2.0",
      "model_name": "LayoutModel",
      "state": {}
     },
     "a631646323a1498da30269bb06cabb2e": {
      "model_module": "@jupyter-widgets/base",
      "model_module_version": "1.2.0",
      "model_name": "LayoutModel",
      "state": {}
     },
     "a66ca1164a3a4cc2a70da1dcdbe1aff7": {
      "model_module": "@jupyter-widgets/base",
      "model_module_version": "1.2.0",
      "model_name": "LayoutModel",
      "state": {}
     },
     "a6bd8e0095284e58859dcf6f059d44b5": {
      "model_module": "@jupyter-widgets/base",
      "model_module_version": "1.2.0",
      "model_name": "LayoutModel",
      "state": {}
     },
     "a7117034f1734d09b349f9e7adba5227": {
      "model_module": "@jupyter-widgets/base",
      "model_module_version": "1.2.0",
      "model_name": "LayoutModel",
      "state": {}
     },
     "a7b2e8643bad4bb081f933b8846e180f": {
      "model_module": "@jupyter-widgets/controls",
      "model_module_version": "1.5.0",
      "model_name": "DescriptionStyleModel",
      "state": {
       "description_width": ""
      }
     },
     "a8518a7b882048489e9056d63ed42228": {
      "model_module": "@jupyter-widgets/base",
      "model_module_version": "1.2.0",
      "model_name": "LayoutModel",
      "state": {}
     },
     "a9224a20dddc48b888e03e8cd38e0d2e": {
      "model_module": "@jupyter-widgets/controls",
      "model_module_version": "1.5.0",
      "model_name": "FloatTextModel",
      "state": {
       "layout": "IPY_MODEL_a1ced1c54aec476c850c7080d7314af6",
       "step": 0.1,
       "style": "IPY_MODEL_7495fbaee677445897411536cc2ff5df",
       "value": 7
      }
     },
     "aa1529c4aa5a4bbaa663fbe66e3c8dd2": {
      "model_module": "@jupyter-widgets/controls",
      "model_module_version": "1.5.0",
      "model_name": "HBoxModel",
      "state": {
       "children": [
        "IPY_MODEL_88b012ed983542b5a02fb1106dc30ec7",
        "IPY_MODEL_b75bde5542fd4be7b088334c664f320c"
       ],
       "layout": "IPY_MODEL_0f106aa1df504356aafa4b6379ba4736"
      }
     },
     "ad105f603ff643e6a07f5829343c0144": {
      "model_module": "@jupyter-widgets/base",
      "model_module_version": "1.2.0",
      "model_name": "LayoutModel",
      "state": {}
     },
     "ad11bf16ec964f52a9a92b3dd7fd62ff": {
      "model_module": "@jupyter-widgets/base",
      "model_module_version": "1.2.0",
      "model_name": "LayoutModel",
      "state": {}
     },
     "ad331d43038b4165887082c25696bfb5": {
      "model_module": "@jupyter-widgets/controls",
      "model_module_version": "1.5.0",
      "model_name": "HBoxModel",
      "state": {
       "children": [
        "IPY_MODEL_a1293b65e1024a5f9f265dab991c9ed9",
        "IPY_MODEL_9671bcdaced444b0ab027be995895adf"
       ],
       "layout": "IPY_MODEL_0dc2efa5929145679ee40aab0e169e61"
      }
     },
     "ad3735d21bf340f48d5ef74fe80bf413": {
      "model_module": "jupyter-matplotlib",
      "model_module_version": "^0.7.3",
      "model_name": "MPLCanvasModel",
      "state": {
       "_cursor": "default",
       "_figure_label": "Figure 6",
       "_height": 479,
       "_image_mode": "diff",
       "_width": 640,
       "layout": "IPY_MODEL_e846c65aa40d4d3c883f7696dc8c8e91",
       "toolbar": "IPY_MODEL_723afd9c76134a0192b1a44078254529",
       "toolbar_position": "left"
      }
     },
     "ad7ba185d8cb4792b7590df9f09f054b": {
      "model_module": "@jupyter-widgets/controls",
      "model_module_version": "1.5.0",
      "model_name": "DescriptionStyleModel",
      "state": {
       "description_width": ""
      }
     },
     "adc5dbd9c43e47cd8676b9d233d5511c": {
      "model_module": "@jupyter-widgets/base",
      "model_module_version": "1.2.0",
      "model_name": "LayoutModel",
      "state": {}
     },
     "add0f051adc845e993b123414763f3bd": {
      "model_module": "jupyter-matplotlib",
      "model_module_version": "^0.7.3",
      "model_name": "MPLCanvasModel",
      "state": {
       "_cursor": "default",
       "_figure_label": "Figure 4",
       "_height": 479,
       "_image_mode": "diff",
       "_message": "x=2.90235      y=-2.69169    ",
       "_width": 640,
       "layout": "IPY_MODEL_9f52b35d618f4b88bcdecfcb45f8c1a7",
       "toolbar": "IPY_MODEL_d38a5394bedb4ed5931ed6336aca7c72",
       "toolbar_position": "left"
      }
     },
     "ae399ebffc3b4e938b04f79f0507f3b3": {
      "model_module": "@jupyter-widgets/controls",
      "model_module_version": "1.5.0",
      "model_name": "IntSliderModel",
      "state": {
       "description": "tau",
       "layout": "IPY_MODEL_ff4ba283433c47cd9ec82100f5abe38f",
       "max": 99,
       "readout": false,
       "style": "IPY_MODEL_1abce606df1047098fd13e0f8c54c4b0"
      }
     },
     "b0da160e7b42473bb3c131634cdbe21b": {
      "model_module": "@jupyter-widgets/controls",
      "model_module_version": "1.5.0",
      "model_name": "IntSliderModel",
      "state": {
       "description": "beta",
       "layout": "IPY_MODEL_027798042c3c4ee3b392629d08ab321e",
       "max": 99,
       "readout": false,
       "style": "IPY_MODEL_fd7eddc7a9ab419fbc05998f891e3c5e",
       "value": 21
      }
     },
     "b13e03af62d44aa2a52fda2199939202": {
      "model_module": "@jupyter-widgets/base",
      "model_module_version": "1.2.0",
      "model_name": "LayoutModel",
      "state": {}
     },
     "b2a28ba432a7488e8a268158335265d9": {
      "model_module": "@jupyter-widgets/base",
      "model_module_version": "1.2.0",
      "model_name": "LayoutModel",
      "state": {}
     },
     "b3dd5084a46a49fc9d0efbdb1ab8e547": {
      "model_module": "@jupyter-widgets/controls",
      "model_module_version": "1.5.0",
      "model_name": "VBoxModel",
      "state": {
       "children": [
        "IPY_MODEL_fa781c25996e494fabb120869fffe93d",
        "IPY_MODEL_ea6e9f707802422f9f672b14da6a4c26"
       ],
       "layout": "IPY_MODEL_c10172967d4e4870ab90b1aadec59238"
      }
     },
     "b3e48e17b867420f9aad440900ada21b": {
      "model_module": "jupyter-matplotlib",
      "model_module_version": "^0.7.3",
      "model_name": "ToolbarModel",
      "state": {
       "layout": "IPY_MODEL_e045bbf3dd464e97aff5a538eefa903a",
       "toolitems": [
        [
         "Home",
         "Reset original view",
         "home",
         "home"
        ],
        [
         "Back",
         "Back to previous view",
         "arrow-left",
         "back"
        ],
        [
         "Forward",
         "Forward to next view",
         "arrow-right",
         "forward"
        ],
        [
         "Pan",
         "Pan axes with left mouse, zoom with right",
         "arrows",
         "pan"
        ],
        [
         "Zoom",
         "Zoom to rectangle",
         "square-o",
         "zoom"
        ],
        [
         "Download",
         "Download plot",
         "floppy-o",
         "save_figure"
        ]
       ]
      }
     },
     "b75bde5542fd4be7b088334c664f320c": {
      "model_module": "@jupyter-widgets/controls",
      "model_module_version": "1.5.0",
      "model_name": "LabelModel",
      "state": {
       "layout": "IPY_MODEL_ddf89d58977f48f797c1f58fccce19d6",
       "style": "IPY_MODEL_a44af20ba8ce4cca83b9b9d341907286",
       "value": "1.0"
      }
     },
     "b79b3dc26e2041468b0c24b47bf61d4f": {
      "model_module": "@jupyter-widgets/base",
      "model_module_version": "1.2.0",
      "model_name": "LayoutModel",
      "state": {}
     },
     "bac51160b6e04125a501212d48b0d44e": {
      "model_module": "@jupyter-widgets/base",
      "model_module_version": "1.2.0",
      "model_name": "LayoutModel",
      "state": {}
     },
     "bf6cdc8107184d308ea1661c9ad0279a": {
      "model_module": "@jupyter-widgets/base",
      "model_module_version": "1.2.0",
      "model_name": "LayoutModel",
      "state": {}
     },
     "c10172967d4e4870ab90b1aadec59238": {
      "model_module": "@jupyter-widgets/base",
      "model_module_version": "1.2.0",
      "model_name": "LayoutModel",
      "state": {}
     },
     "c13fc160c24941798088500c08f5a063": {
      "model_module": "@jupyter-widgets/controls",
      "model_module_version": "1.5.0",
      "model_name": "HBoxModel",
      "state": {
       "children": [
        "IPY_MODEL_2cbe0fdf3f284fd4b3a7ca70bd867438",
        "IPY_MODEL_5f9080798f54403cbc0cf563cde527bb"
       ],
       "layout": "IPY_MODEL_87df4084a2cf418fac36d4310a5849eb"
      }
     },
     "c184c825775c4503add81db721a3ea1d": {
      "model_module": "@jupyter-widgets/controls",
      "model_module_version": "1.5.0",
      "model_name": "CheckboxModel",
      "state": {
       "disabled": false,
       "layout": "IPY_MODEL_df668e1efc46409bbb6d7b60cc3203ff",
       "style": "IPY_MODEL_3981422ea4054fae93258faa037794e6",
       "value": true
      }
     },
     "c2e1ed9465b84dec8237d96ea1f069ee": {
      "model_module": "@jupyter-widgets/base",
      "model_module_version": "1.2.0",
      "model_name": "LayoutModel",
      "state": {}
     },
     "c4b7db2433ba4c8a97bb3ba7a7dc9c7d": {
      "model_module": "@jupyter-widgets/base",
      "model_module_version": "1.2.0",
      "model_name": "LayoutModel",
      "state": {}
     },
     "c81b513f0c37476cb6b92bf5fafd98e6": {
      "model_module": "@jupyter-widgets/controls",
      "model_module_version": "1.5.0",
      "model_name": "HBoxModel",
      "state": {
       "children": [
        "IPY_MODEL_3bf3f29aa0bd4501a5c998b517a0153b",
        "IPY_MODEL_e8bbf2578b8b49608a80828c01af0775"
       ],
       "layout": "IPY_MODEL_7be612ad77064e1d9d4c340d89834710"
      }
     },
     "c90560fc9d3a483e9132ebc79a1a2ca2": {
      "model_module": "@jupyter-widgets/base",
      "model_module_version": "1.2.0",
      "model_name": "LayoutModel",
      "state": {}
     },
     "cceaf45acbfd4b229a3bee6588c5f34a": {
      "model_module": "@jupyter-widgets/base",
      "model_module_version": "1.2.0",
      "model_name": "LayoutModel",
      "state": {}
     },
     "ce65d7ef38cd4dfa95ee1f261a0bd688": {
      "model_module": "@jupyter-widgets/controls",
      "model_module_version": "1.5.0",
      "model_name": "VBoxModel",
      "state": {
       "children": [
        "IPY_MODEL_26993a6138914b388f48f8059a5448d3",
        "IPY_MODEL_c81b513f0c37476cb6b92bf5fafd98e6",
        "IPY_MODEL_83ff02745dbb44e3b6c3e7fa7f734a5d"
       ],
       "layout": "IPY_MODEL_0abd0b79c04f4e0d924e32e0a38fa0c2"
      }
     },
     "cfb63491b99049c8b3b2d277f110a623": {
      "model_module": "@jupyter-widgets/controls",
      "model_module_version": "1.5.0",
      "model_name": "DescriptionStyleModel",
      "state": {
       "description_width": ""
      }
     },
     "d0df048fb06e467cab8b1495043be848": {
      "model_module": "@jupyter-widgets/base",
      "model_module_version": "1.2.0",
      "model_name": "LayoutModel",
      "state": {}
     },
     "d140790d70f2406cb04cbb51400b37a4": {
      "model_module": "@jupyter-widgets/controls",
      "model_module_version": "1.5.0",
      "model_name": "HBoxModel",
      "state": {
       "children": [
        "IPY_MODEL_ff6920adcff34e34a4286870e8db3a8f",
        "IPY_MODEL_fa1169094a654048965824bf6386ba89"
       ],
       "layout": "IPY_MODEL_adc5dbd9c43e47cd8676b9d233d5511c"
      }
     },
     "d2bb1b74e72d4496a40ce0da000edca5": {
      "model_module": "@jupyter-widgets/controls",
      "model_module_version": "1.5.0",
      "model_name": "DescriptionStyleModel",
      "state": {
       "description_width": ""
      }
     },
     "d38a5394bedb4ed5931ed6336aca7c72": {
      "model_module": "jupyter-matplotlib",
      "model_module_version": "^0.7.3",
      "model_name": "ToolbarModel",
      "state": {
       "layout": "IPY_MODEL_74ba11ed72874086a35ff8ea57583254",
       "toolitems": [
        [
         "Home",
         "Reset original view",
         "home",
         "home"
        ],
        [
         "Back",
         "Back to previous view",
         "arrow-left",
         "back"
        ],
        [
         "Forward",
         "Forward to next view",
         "arrow-right",
         "forward"
        ],
        [
         "Pan",
         "Pan axes with left mouse, zoom with right",
         "arrows",
         "pan"
        ],
        [
         "Zoom",
         "Zoom to rectangle",
         "square-o",
         "zoom"
        ],
        [
         "Download",
         "Download plot",
         "floppy-o",
         "save_figure"
        ]
       ]
      }
     },
     "d3c29a7c66174d178d7808007d2cf52d": {
      "model_module": "@jupyter-widgets/base",
      "model_module_version": "1.2.0",
      "model_name": "LayoutModel",
      "state": {}
     },
     "d701ba92a57f436e9609ff63bb062eac": {
      "model_module": "@jupyter-widgets/base",
      "model_module_version": "1.2.0",
      "model_name": "LayoutModel",
      "state": {}
     },
     "d987e373e753416c9a8dfaa4975f6e6d": {
      "model_module": "@jupyter-widgets/controls",
      "model_module_version": "1.5.0",
      "model_name": "CheckboxModel",
      "state": {
       "disabled": false,
       "layout": "IPY_MODEL_f382f75f593f48c3af10a1d6b9f683f2",
       "style": "IPY_MODEL_8d95949798dd4911b5c052053fef4b99",
       "value": false
      }
     },
     "dbe8865fde544ca4b1ab4c2c6ec4a0a2": {
      "model_module": "@jupyter-widgets/base",
      "model_module_version": "1.2.0",
      "model_name": "LayoutModel",
      "state": {}
     },
     "ddf89d58977f48f797c1f58fccce19d6": {
      "model_module": "@jupyter-widgets/base",
      "model_module_version": "1.2.0",
      "model_name": "LayoutModel",
      "state": {}
     },
     "df668e1efc46409bbb6d7b60cc3203ff": {
      "model_module": "@jupyter-widgets/base",
      "model_module_version": "1.2.0",
      "model_name": "LayoutModel",
      "state": {}
     },
     "e045bbf3dd464e97aff5a538eefa903a": {
      "model_module": "@jupyter-widgets/base",
      "model_module_version": "1.2.0",
      "model_name": "LayoutModel",
      "state": {}
     },
     "e28f495a706643a8bacfbbadc3b82213": {
      "model_module": "@jupyter-widgets/controls",
      "model_module_version": "1.5.0",
      "model_name": "SliderStyleModel",
      "state": {
       "description_width": ""
      }
     },
     "e28f4cde75554ec6a9421cf9dafdf931": {
      "model_module": "@jupyter-widgets/base",
      "model_module_version": "1.2.0",
      "model_name": "LayoutModel",
      "state": {}
     },
     "e457822c5ee34be49fb70ad46356f02c": {
      "model_module": "@jupyter-widgets/base",
      "model_module_version": "1.2.0",
      "model_name": "LayoutModel",
      "state": {}
     },
     "e6419093d4c54d3fbd76966396e31ef6": {
      "model_module": "@jupyter-widgets/controls",
      "model_module_version": "1.5.0",
      "model_name": "HBoxModel",
      "state": {
       "children": [
        "IPY_MODEL_0c39f97f1de545b7922e0f384603cb17",
        "IPY_MODEL_8f0f9f69660841b7bf610aebd0ffc88b"
       ],
       "layout": "IPY_MODEL_a7117034f1734d09b349f9e7adba5227"
      }
     },
     "e6816ab73d7a4eb1a1befd870c3f908d": {
      "model_module": "@jupyter-widgets/base",
      "model_module_version": "1.2.0",
      "model_name": "LayoutModel",
      "state": {}
     },
     "e846c65aa40d4d3c883f7696dc8c8e91": {
      "model_module": "@jupyter-widgets/base",
      "model_module_version": "1.2.0",
      "model_name": "LayoutModel",
      "state": {}
     },
     "e8bbf2578b8b49608a80828c01af0775": {
      "model_module": "@jupyter-widgets/controls",
      "model_module_version": "1.5.0",
      "model_name": "LabelModel",
      "state": {
       "layout": "IPY_MODEL_295ee65ca75f4c94b46a3aa70bc723f3",
       "style": "IPY_MODEL_47fdc45fad7f442e955c771759b72102",
       "value": "1.0"
      }
     },
     "e927efd4fdb24520b98f3bbccdf354a7": {
      "model_module": "@jupyter-widgets/controls",
      "model_module_version": "1.5.0",
      "model_name": "VBoxModel",
      "state": {
       "children": [
        "IPY_MODEL_fa963cedf83e48eda5b96c204938e1d3"
       ],
       "layout": "IPY_MODEL_f372b174fb064d9e9653a8c862d0c0d1"
      }
     },
     "ea2f90596dda40dfb8a2843662b39c75": {
      "model_module": "@jupyter-widgets/controls",
      "model_module_version": "1.5.0",
      "model_name": "IntSliderModel",
      "state": {
       "description": "beta",
       "layout": "IPY_MODEL_a66ca1164a3a4cc2a70da1dcdbe1aff7",
       "max": 49,
       "readout": false,
       "style": "IPY_MODEL_faac2825883e42ceb09a6063d8147c7c",
       "value": 19
      }
     },
     "ea6e9f707802422f9f672b14da6a4c26": {
      "model_module": "jupyter-matplotlib",
      "model_module_version": "^0.7.3",
      "model_name": "MPLCanvasModel",
      "state": {
       "_cursor": "default",
       "_figure_label": "Figure 5",
       "_height": 308,
       "_width": 692,
       "layout": "IPY_MODEL_a5ea91dd311f46ab8ff0dfd8cf728f33",
       "toolbar": "IPY_MODEL_19aa223aded14a13812484389e7d4492",
       "toolbar_position": "left"
      }
     },
     "ec0d126aa6764eb1b57afbaefb6607bc": {
      "model_module": "@jupyter-widgets/controls",
      "model_module_version": "1.5.0",
      "model_name": "SliderStyleModel",
      "state": {
       "description_width": ""
      }
     },
     "ed4c3f57d2cc428ca6b31e3f8bdc0fb6": {
      "model_module": "@jupyter-widgets/base",
      "model_module_version": "1.2.0",
      "model_name": "LayoutModel",
      "state": {}
     },
     "eef99f8b4b364b7b816163e0612ee218": {
      "model_module": "@jupyter-widgets/controls",
      "model_module_version": "1.5.0",
      "model_name": "VBoxModel",
      "state": {
       "children": [
        "IPY_MODEL_c184c825775c4503add81db721a3ea1d"
       ],
       "layout": "IPY_MODEL_132558ab3a3b4293a53f5a02df0902d0"
      }
     },
     "f08feaf31fac48b0bf3bde23ca3c099a": {
      "model_module": "@jupyter-widgets/controls",
      "model_module_version": "1.5.0",
      "model_name": "LabelModel",
      "state": {
       "layout": "IPY_MODEL_57aedbfefac94c49993cea0e1a4553d2",
       "style": "IPY_MODEL_98ceea9881244694acc71d61126d21a3",
       "value": "1.0"
      }
     },
     "f372b174fb064d9e9653a8c862d0c0d1": {
      "model_module": "@jupyter-widgets/base",
      "model_module_version": "1.2.0",
      "model_name": "LayoutModel",
      "state": {}
     },
     "f382f75f593f48c3af10a1d6b9f683f2": {
      "model_module": "@jupyter-widgets/base",
      "model_module_version": "1.2.0",
      "model_name": "LayoutModel",
      "state": {}
     },
     "f68c73230a654086a0a770f327791d8f": {
      "model_module": "@jupyter-widgets/controls",
      "model_module_version": "1.5.0",
      "model_name": "IntSliderModel",
      "state": {
       "description": "tau",
       "layout": "IPY_MODEL_d701ba92a57f436e9609ff63bb062eac",
       "max": 99,
       "readout": false,
       "style": "IPY_MODEL_fb86370ab8174981bf9b2225026ffb34"
      }
     },
     "f6ad929a8b2c4c84873075758c9dbc4b": {
      "model_module": "@jupyter-widgets/base",
      "model_module_version": "1.2.0",
      "model_name": "LayoutModel",
      "state": {}
     },
     "f6eb20fcd62f4dd2898b78667fdb9bd5": {
      "model_module": "@jupyter-widgets/base",
      "model_module_version": "1.2.0",
      "model_name": "LayoutModel",
      "state": {}
     },
     "f8953c91ac674a3a9e8b1a6003114c03": {
      "model_module": "@jupyter-widgets/controls",
      "model_module_version": "1.5.0",
      "model_name": "LabelModel",
      "state": {
       "layout": "IPY_MODEL_80ccc8d25e1041be850c1ffc594b06e5",
       "style": "IPY_MODEL_d2bb1b74e72d4496a40ce0da000edca5",
       "value": "3.3"
      }
     },
     "fa1169094a654048965824bf6386ba89": {
      "model_module": "@jupyter-widgets/controls",
      "model_module_version": "1.5.0",
      "model_name": "LabelModel",
      "state": {
       "layout": "IPY_MODEL_fa1e1d819395435abb1e054c95097487",
       "style": "IPY_MODEL_8f550083645d479c85499e3b5e153565",
       "value": "7.4"
      }
     },
     "fa1e1d819395435abb1e054c95097487": {
      "model_module": "@jupyter-widgets/base",
      "model_module_version": "1.2.0",
      "model_name": "LayoutModel",
      "state": {}
     },
     "fa781c25996e494fabb120869fffe93d": {
      "model_module": "@jupyter-widgets/controls",
      "model_module_version": "1.5.0",
      "model_name": "VBoxModel",
      "state": {
       "children": [
        "IPY_MODEL_3c1d254a6e464701b0a1c9f69f216dba",
        "IPY_MODEL_e6419093d4c54d3fbd76966396e31ef6"
       ],
       "layout": "IPY_MODEL_c2e1ed9465b84dec8237d96ea1f069ee"
      }
     },
     "fa963cedf83e48eda5b96c204938e1d3": {
      "model_module": "@jupyter-widgets/controls",
      "model_module_version": "1.5.0",
      "model_name": "HBoxModel",
      "state": {
       "children": [
        "IPY_MODEL_763c142beb284f6ca019456518f61365",
        "IPY_MODEL_08ab18f91b5448d6b5ba1ab03733a312"
       ],
       "layout": "IPY_MODEL_a6bd8e0095284e58859dcf6f059d44b5"
      }
     },
     "faac2825883e42ceb09a6063d8147c7c": {
      "model_module": "@jupyter-widgets/controls",
      "model_module_version": "1.5.0",
      "model_name": "SliderStyleModel",
      "state": {
       "description_width": ""
      }
     },
     "fb86370ab8174981bf9b2225026ffb34": {
      "model_module": "@jupyter-widgets/controls",
      "model_module_version": "1.5.0",
      "model_name": "SliderStyleModel",
      "state": {
       "description_width": ""
      }
     },
     "fd7eddc7a9ab419fbc05998f891e3c5e": {
      "model_module": "@jupyter-widgets/controls",
      "model_module_version": "1.5.0",
      "model_name": "SliderStyleModel",
      "state": {
       "description_width": ""
      }
     },
     "ff4ba283433c47cd9ec82100f5abe38f": {
      "model_module": "@jupyter-widgets/base",
      "model_module_version": "1.2.0",
      "model_name": "LayoutModel",
      "state": {}
     },
     "ff6920adcff34e34a4286870e8db3a8f": {
      "model_module": "@jupyter-widgets/controls",
      "model_module_version": "1.5.0",
      "model_name": "IntSliderModel",
      "state": {
       "description": "tau",
       "layout": "IPY_MODEL_b2a28ba432a7488e8a268158335265d9",
       "max": 99,
       "readout": false,
       "style": "IPY_MODEL_25b12bec87364d2390d7e80317894417",
       "value": 70
      }
     }
    },
    "version_major": 2,
    "version_minor": 0
   }
  }
 },
 "nbformat": 4,
 "nbformat_minor": 4
}
