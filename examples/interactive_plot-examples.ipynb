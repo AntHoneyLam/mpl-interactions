{
 "cells": [
  {
   "cell_type": "code",
   "execution_count": null,
   "metadata": {},
   "outputs": [],
   "source": [
    "%matplotlib widget\n",
    "import matplotlib.pyplot as plt\n",
    "import numpy as np\n",
    "from ipympl_interactions import interactive_plot, interactive_plot_factory"
   ]
  },
  {
   "cell_type": "markdown",
   "metadata": {},
   "source": [
    "# Interactive line plots\n",
    "\n",
    "\n",
    "## Simplest example\n",
    "\n",
    "Here is an example with no extra arguments or styling so that the example looks nice and compact + simple."
   ]
  },
  {
   "cell_type": "code",
   "execution_count": null,
   "metadata": {},
   "outputs": [],
   "source": [
    "x = np.linspace(0,np.pi,100)\n",
    "τ = np.linspace(1,10,100)\n",
    "β = np.linspace(1,10,100)\n",
    "def f(x, τ, β):\n",
    "    return np.sin(x*τ)*x**β\n",
    "fig, ax, sliders = interactive_plot(f, x=x, τ = τ, β = β)"
   ]
  },
  {
   "attachments": {
    "cfb5474a-0bb5-43d3-837c-f597da5f4a3a.png": {
     "image/png": "[encoded data removed]"
    }
   },
   "cell_type": "markdown",
   "metadata": {},
   "source": [
    "### Troubleshooting\n",
    "If instead of a plot you got an output that looks like this:  \n",
    "![image.png](attachment:cfb5474a-0bb5-43d3-837c-f597da5f4a3a.png)  \n",
    "and you are using jupyterlab then you probably need to install jupyterlab-manager:\n",
    "```bash\n",
    "conda install -c conda-forge nodejs=12\n",
    "jupyter labextension install @jupyter-widgets/jupyterlab-manager\n",
    "```\n",
    "after the install and finishes refresh the browser page and it should work"
   ]
  },
  {
   "cell_type": "markdown",
   "metadata": {},
   "source": [
    "## With multiple functions + showcase automatic legend\n",
    "\n",
    "You can compare multiple functions by providing a list of functions. If you do not explicitly provide a label the name of the function will be used as the label so you can still differentiate them in a legend."
   ]
  },
  {
   "cell_type": "code",
   "execution_count": null,
   "metadata": {},
   "outputs": [],
   "source": [
    "\n",
    "x = np.linspace(0,np.pi,100)\n",
    "τ = np.linspace(.5, 10, 100)\n",
    "β = np.linspace(1, 10, 100)\n",
    "def f1(x, τ, β):\n",
    "    return np.sin(x*τ)*x*β\n",
    "def f2(x, τ, β):\n",
    "    return np.sin(x*β)*x*τ\n",
    "fig, ax, sliders = interactive_plot([f1, f2], x=x, τ = τ, β = β)\n",
    "plt.legend()"
   ]
  },
  {
   "cell_type": "markdown",
   "metadata": {},
   "source": [
    "## Styling of plot\n",
    "\n",
    "You can either use the figure and axis objects returned by the function, or if the figure is the current active figure the standard `plt.__` commands should work as expected. You can also provide explict plot_kwargs to the `plt.plot` command that is used internally using the plot_kwargs argument\n",
    "\n",
    "You can control how `xlim`/`ylim`s behave using the `x_scale`/`y_scale` arguments. The options are:\n",
    "1. `stretch`\n",
    "    - never shrink the x/y axis but will expand it to fit larger values\n",
    "2. `auto`\n",
    "    - autoscale the x/y axis for every plot update\n",
    "3. `fixed`\n",
    "    - always used the initial values of the limits\n",
    "4. a tuple\n",
    "    - You can pass a value such as `[-4,5]` to have the limits not be updated by moving the sliders."
   ]
  },
  {
   "cell_type": "code",
   "execution_count": null,
   "metadata": {},
   "outputs": [],
   "source": [
    "x = np.linspace(0,np.pi,100)\n",
    "τ = np.linspace(1,10,100)\n",
    "def f(τ):\n",
    "    return [np.sin(x*τ)*x**τ, x*τ]\n",
    "interactive_plot(f,τ=τ,x_scale='stretch',y_scale='auto',plot_kwargs={'label':'interactive!'})\n",
    "\n",
    "#you can still use plt commands if this is the active figure\n",
    "plt.ylabel('yikes a ylabel!')\n",
    "plt.title('Stretching ylims')\n",
    "\n",
    "# you can new lines - though they won't be updated interactively.\n",
    "plt.plot(x,np.sin(x),label='Added after, not interactive')\n",
    "\n",
    "_  = plt.legend() # _ to capture the annoying output that would otherwise appear\n"
   ]
  },
  {
   "cell_type": "markdown",
   "metadata": {},
   "source": [
    "### fixed y-scale\n",
    "\n",
    "\n",
    "You can also set `yscale` to anything the matplotlib will accept as a `ylim` "
   ]
  },
  {
   "cell_type": "code",
   "execution_count": null,
   "metadata": {},
   "outputs": [],
   "source": [
    "x = np.linspace(0,np.pi,100)\n",
    "τ = np.linspace(1,10,100)\n",
    "def f(x,τ):\n",
    "    return np.sin(x*τ)*x**τ\n",
    "interactive_plot(f,x, τ=τ, y_scale=[-3,4],plot_kwargs={'label':'interactive!'})\n",
    "\n",
    "#you can still use plt commands if this is the active figure\n",
    "plt.ylabel('yikes a ylabel!')\n",
    "plt.title('Fixed ylim')\n",
    "\n",
    "# you can new lines - though they won't be updated interactively.\n",
    "plt.plot(x,np.sin(x),label='Added after, not interactive')\n",
    "\n",
    "_  = plt.legend() # _ to capture the annoying output that would otherwise appear\n"
   ]
  },
  {
   "cell_type": "markdown",
   "metadata": {},
   "source": [
    "## Controlling layout\n",
    "\n",
    "If you want more control over the layout then you can use the argument `display=False` and use the returned elements to place the figure and sliders whereever you would like. If you want even more control then you should use `interactive_plot_factory` which will not make any choices about display and that you can provide a matplotlib.axis to. That has it own example below\n",
    "\n",
    "However even just using the returned values gives you enough flexibility to make questionable layout choices like so:"
   ]
  },
  {
   "cell_type": "code",
   "execution_count": null,
   "metadata": {},
   "outputs": [],
   "source": [
    "from ipywidgets import HBox, VBox\n",
    "fig, ax, sliders = interactive_plot([f1, f2], x=x, τ = τ, β = β, display=False)\n",
    "HBox([sliders, VBox([sliders,fig.canvas,sliders]), sliders])"
   ]
  },
  {
   "cell_type": "markdown",
   "metadata": {},
   "source": [
    "## interactive_plot_factory\n",
    "\n",
    "This function will not wrap the sliders into VBox for you, it will return them as a list. It also takes a matplotlib axis as a required argument so you are responsible for creating and displaying the figure. In the below example I split up the sliders across multiple cells just to demonstrate that you can (though you probably should not)"
   ]
  },
  {
   "cell_type": "code",
   "execution_count": null,
   "metadata": {},
   "outputs": [],
   "source": [
    "plt.ioff(); fig, (ax1, ax2) = plt.subplots(1,2); plt.ion()\n",
    "ax2.set_title('a totally separate axis', fontsize=14)\n",
    "ax2.plot(f2(x, -.4, 3))\n",
    "sliders = interactive_plot_factory(ax1, [f1, f2], x=x, τ = τ, β = β)\n",
    "ax1.legend()\n",
    "display(sliders[0])"
   ]
  },
  {
   "cell_type": "code",
   "execution_count": null,
   "metadata": {},
   "outputs": [],
   "source": [
    "VBox([*sliders[1:], fig.canvas])"
   ]
  },
  {
   "cell_type": "code",
   "execution_count": null,
   "metadata": {},
   "outputs": [],
   "source": []
  }
 ],
 "metadata": {
  "kernelspec": {
   "display_name": "Python 3",
   "language": "python",
   "name": "python3"
  },
  "language_info": {
   "codemirror_mode": {
    "name": "ipython",
    "version": 3
   },
   "file_extension": ".py",
   "mimetype": "text/x-python",
   "name": "python",
   "nbconvert_exporter": "python",
   "pygments_lexer": "ipython3",
   "version": "3.8.3"
  },
  "widgets": {
   "application/vnd.jupyter.widget-state+json": {
    "state": {
     "0615057b008e422ab313215b682c778b": {
      "model_module": "@jupyter-widgets/base",
      "model_module_version": "1.2.0",
      "model_name": "LayoutModel",
      "state": {}
     },
     "06e15c5ba48d4d2fa1d0ad9a73ce4026": {
      "model_module": "jupyter-matplotlib",
      "model_module_version": "^0.7.1",
      "model_name": "MPLCanvasModel",
      "state": {
       "_figure_label": "Figure 12",
       "_height": 479,
       "_width": 640,
       "layout": "IPY_MODEL_9df7c799d22f423c8384691cee4adec4",
       "toolbar": "IPY_MODEL_5c4d85711dcd44d6b72c14191b1b5ffd",
       "toolbar_position": "left"
      }
     },
     "072fea50cfbc4cb79e97593976e459a2": {
      "model_module": "@jupyter-widgets/controls",
      "model_module_version": "1.5.0",
      "model_name": "HBoxModel",
      "state": {
       "children": [
        "IPY_MODEL_35ca26b7021945a0aca1a11df4b0ecaf",
        "IPY_MODEL_f993546dd74f4c6999b410d75751d034"
       ],
       "layout": "IPY_MODEL_dd0a90cd69e546eead1080660472479c"
      }
     },
     "08269a3e72204b9689624f48c13d050e": {
      "model_module": "@jupyter-widgets/base",
      "model_module_version": "1.2.0",
      "model_name": "LayoutModel",
      "state": {}
     },
     "082fa0c660d2496f888f1b9cd3e986a6": {
      "model_module": "@jupyter-widgets/base",
      "model_module_version": "1.2.0",
      "model_name": "LayoutModel",
      "state": {}
     },
     "09f6cb5d63764d368310bda90423b528": {
      "model_module": "@jupyter-widgets/base",
      "model_module_version": "1.2.0",
      "model_name": "LayoutModel",
      "state": {
       "grid_area": "footer"
      }
     },
     "0b9d4b1ac7d84c5e99a70bee7bd438bd": {
      "model_module": "jupyter-matplotlib",
      "model_module_version": "^0.7.1",
      "model_name": "MPLCanvasModel",
      "state": {
       "_figure_label": "Figure 16",
       "_height": 479,
       "_image_mode": "diff",
       "_width": 640,
       "header_visible": false,
       "layout": "IPY_MODEL_a518b49fed1c42f6b049df6984b62e07",
       "toolbar": "IPY_MODEL_d59a0cf7bb8e48118b70285ccda33361",
       "toolbar_position": "left"
      }
     },
     "0d0553d821414a7faa8df9f75bd41ea5": {
      "model_module": "@jupyter-widgets/base",
      "model_module_version": "1.2.0",
      "model_name": "LayoutModel",
      "state": {
       "grid_area": "footer",
       "margin": "0px 30% 0px 30%",
       "width": "40%"
      }
     },
     "0d5867bfc052465baf88586fa0c918b4": {
      "model_module": "@jupyter-widgets/base",
      "model_module_version": "1.2.0",
      "model_name": "LayoutModel",
      "state": {}
     },
     "10b7497472a547049dab0891f2c739bb": {
      "model_module": "@jupyter-widgets/controls",
      "model_module_version": "1.5.0",
      "model_name": "HBoxModel",
      "state": {
       "children": [
        "IPY_MODEL_74677ed96339475a9085fd644ab28682",
        "IPY_MODEL_ff09f395b2b44006a18427d7ee1d4bf8"
       ],
       "layout": "IPY_MODEL_565c455c2f174b8fb80988baed79fc9e"
      }
     },
     "113d558b91564e348c6aaa2eec19b10d": {
      "model_module": "@jupyter-widgets/base",
      "model_module_version": "1.2.0",
      "model_name": "LayoutModel",
      "state": {}
     },
     "1153c085545845b5ad15924971404273": {
      "model_module": "@jupyter-widgets/base",
      "model_module_version": "1.2.0",
      "model_name": "LayoutModel",
      "state": {}
     },
     "120b4f1c13054c4382c9ab9ca68b6e26": {
      "model_module": "@jupyter-widgets/controls",
      "model_module_version": "1.5.0",
      "model_name": "SliderStyleModel",
      "state": {
       "description_width": ""
      }
     },
     "1412e8dfbe44458d84358afe3e472f79": {
      "model_module": "jupyter-matplotlib",
      "model_module_version": "^0.7.1",
      "model_name": "MPLCanvasModel",
      "state": {
       "_figure_label": "Figure 15",
       "_height": 479,
       "_width": 640,
       "header_visible": false,
       "layout": "IPY_MODEL_70c1250fc129470b91397847f4e4ee50",
       "toolbar": "IPY_MODEL_9e76261b68554355afa6f2ad818c85ef",
       "toolbar_position": "left"
      }
     },
     "15b5d244474346f582e9e6b711ceff72": {
      "model_module": "jupyter-matplotlib",
      "model_module_version": "^0.7.1",
      "model_name": "MPLCanvasModel",
      "state": {
       "_figure_label": "Figure 4",
       "_height": 480,
       "_image_mode": "diff",
       "_width": 640,
       "layout": "IPY_MODEL_c4e92639674649c5b90b20505a649fa5",
       "toolbar": "IPY_MODEL_de38f0287ba64c3e8ca21e58bf8eaaa9",
       "toolbar_position": "left"
      }
     },
     "1670319bf02c4f03bd3528176730af1e": {
      "model_module": "@jupyter-widgets/base",
      "model_module_version": "1.2.0",
      "model_name": "LayoutModel",
      "state": {}
     },
     "1dfd8f80c2ae4053b678d73359d996f8": {
      "model_module": "jupyter-matplotlib",
      "model_module_version": "^0.7.1",
      "model_name": "ToolbarModel",
      "state": {
       "layout": "IPY_MODEL_9024c2631c3a46238180aa3841d335c8",
       "toolitems": [
        [
         "Home",
         "Reset original view",
         "home",
         "home"
        ],
        [
         "Back",
         "Back to previous view",
         "arrow-left",
         "back"
        ],
        [
         "Forward",
         "Forward to next view",
         "arrow-right",
         "forward"
        ],
        [
         "Pan",
         "Pan axes with left mouse, zoom with right",
         "arrows",
         "pan"
        ],
        [
         "Zoom",
         "Zoom to rectangle",
         "square-o",
         "zoom"
        ],
        [
         "Download",
         "Download plot",
         "floppy-o",
         "save_figure"
        ]
       ]
      }
     },
     "1fb01848c05446d182d3b403a12f7103": {
      "model_module": "@jupyter-widgets/base",
      "model_module_version": "1.2.0",
      "model_name": "LayoutModel",
      "state": {}
     },
     "202a1f4841084afcb267bddb2e8b4161": {
      "model_module": "@jupyter-widgets/base",
      "model_module_version": "1.2.0",
      "model_name": "LayoutModel",
      "state": {}
     },
     "221b33428b364928ad6c8830499a4aa5": {
      "model_module": "jupyter-matplotlib",
      "model_module_version": "^0.7.1",
      "model_name": "MPLCanvasModel",
      "state": {
       "_figure_label": "Figure 9",
       "_height": 480,
       "_width": 640,
       "layout": "IPY_MODEL_fe2c4b4cd58a4be59b07fa24cce4f582",
       "toolbar": "IPY_MODEL_c292e45dbaab49d7b44816ff7a3a75ca",
       "toolbar_position": "left"
      }
     },
     "27a316186ee14c168517976bfd0a23c5": {
      "model_module": "@jupyter-widgets/base",
      "model_module_version": "1.2.0",
      "model_name": "LayoutModel",
      "state": {}
     },
     "317a4daf45fa4e42a68e2e46859cb2b6": {
      "model_module": "@jupyter-widgets/controls",
      "model_module_version": "1.5.0",
      "model_name": "SliderStyleModel",
      "state": {
       "description_width": ""
      }
     },
     "32592ffc64fd478d8a4aa2dccb0d8ade": {
      "model_module": "@jupyter-widgets/controls",
      "model_module_version": "1.5.0",
      "model_name": "FloatSliderModel",
      "state": {
       "description": "Factor:",
       "layout": "IPY_MODEL_664f533276db45d89b3cffefca7ef901",
       "max": 2,
       "min": 0.02,
       "step": 0.1,
       "style": "IPY_MODEL_542753e36043444a948dd547437f6697",
       "value": 1.42
      }
     },
     "32ad8a7c1a7541bd8e699e7629e3875a": {
      "model_module": "@jupyter-widgets/controls",
      "model_module_version": "1.5.0",
      "model_name": "GridBoxModel",
      "state": {
       "children": [
        "IPY_MODEL_413285fb3dce48ff8e59a55db06ca325",
        "IPY_MODEL_64c82db849284d379b55a3b3befa53d1"
       ],
       "layout": "IPY_MODEL_bd3a6760b400456fb532ea6db9f460fb"
      }
     },
     "3301c0158e8d4629b6e19ac8dc8556e6": {
      "model_module": "jupyter-matplotlib",
      "model_module_version": "^0.7.1",
      "model_name": "ToolbarModel",
      "state": {
       "layout": "IPY_MODEL_ded15ee50c244c71a11aaa28980bb5ae",
       "toolitems": [
        [
         "Home",
         "Reset original view",
         "home",
         "home"
        ],
        [
         "Back",
         "Back to previous view",
         "arrow-left",
         "back"
        ],
        [
         "Forward",
         "Forward to next view",
         "arrow-right",
         "forward"
        ],
        [
         "Pan",
         "Pan axes with left mouse, zoom with right",
         "arrows",
         "pan"
        ],
        [
         "Zoom",
         "Zoom to rectangle",
         "square-o",
         "zoom"
        ],
        [
         "Download",
         "Download plot",
         "floppy-o",
         "save_figure"
        ]
       ]
      }
     },
     "339b64504af04022962ee9db1aa0ebe0": {
      "model_module": "jupyter-matplotlib",
      "model_module_version": "^0.7.1",
      "model_name": "ToolbarModel",
      "state": {
       "layout": "IPY_MODEL_e470ff0b8495496fa28775c1176836c8",
       "toolitems": [
        [
         "Home",
         "Reset original view",
         "home",
         "home"
        ],
        [
         "Back",
         "Back to previous view",
         "arrow-left",
         "back"
        ],
        [
         "Forward",
         "Forward to next view",
         "arrow-right",
         "forward"
        ],
        [
         "Pan",
         "Pan axes with left mouse, zoom with right",
         "arrows",
         "pan"
        ],
        [
         "Zoom",
         "Zoom to rectangle",
         "square-o",
         "zoom"
        ],
        [
         "Download",
         "Download plot",
         "floppy-o",
         "save_figure"
        ]
       ]
      }
     },
     "34cc5e88591543e7b5c70e1715a5f6bc": {
      "model_module": "@jupyter-widgets/base",
      "model_module_version": "1.2.0",
      "model_name": "LayoutModel",
      "state": {
       "grid_template_areas": "\"center center center\"\n\"footer footer footer\"",
       "grid_template_columns": "1fr 2fr 1fr",
       "grid_template_rows": "6fr 1fr"
      }
     },
     "35ca26b7021945a0aca1a11df4b0ecaf": {
      "model_module": "@jupyter-widgets/controls",
      "model_module_version": "1.5.0",
      "model_name": "IntSliderModel",
      "state": {
       "layout": "IPY_MODEL_40b4de1ba1c046828daac67e1a05e371",
       "readout": false,
       "style": "IPY_MODEL_d1267fd9bcd446f4a488138773b929d3",
       "value": 33
      }
     },
     "3624e66829564a5f9fbf115fc31f21f0": {
      "model_module": "@jupyter-widgets/controls",
      "model_module_version": "1.5.0",
      "model_name": "DescriptionStyleModel",
      "state": {
       "description_width": ""
      }
     },
     "37abca62f7b84ed2bee43f8d0fcecfb8": {
      "model_module": "@jupyter-widgets/base",
      "model_module_version": "1.2.0",
      "model_name": "LayoutModel",
      "state": {
       "grid_area": "footer",
       "margin": "0px 30% 0px 30%"
      }
     },
     "3e8c4f93b4694f119649220279a35d6b": {
      "model_module": "@jupyter-widgets/base",
      "model_module_version": "1.2.0",
      "model_name": "LayoutModel",
      "state": {
       "grid_area": "center",
       "min_height": "400px"
      }
     },
     "4038d982964545e999eeb5a7ecbb543a": {
      "model_module": "@jupyter-widgets/base",
      "model_module_version": "1.2.0",
      "model_name": "LayoutModel",
      "state": {}
     },
     "40b4de1ba1c046828daac67e1a05e371": {
      "model_module": "@jupyter-widgets/base",
      "model_module_version": "1.2.0",
      "model_name": "LayoutModel",
      "state": {}
     },
     "413285fb3dce48ff8e59a55db06ca325": {
      "model_module": "@jupyter-widgets/controls",
      "model_module_version": "1.5.0",
      "model_name": "FloatSliderModel",
      "state": {
       "description": "Factor:",
       "layout": "IPY_MODEL_09f6cb5d63764d368310bda90423b528",
       "max": 2,
       "min": 0.02,
       "step": 0.1,
       "style": "IPY_MODEL_317a4daf45fa4e42a68e2e46859cb2b6",
       "value": 1.02
      }
     },
     "44aad3f4e9e445eaaaeb7cd1083e4596": {
      "model_module": "jupyter-matplotlib",
      "model_module_version": "^0.7.1",
      "model_name": "ToolbarModel",
      "state": {
       "layout": "IPY_MODEL_0615057b008e422ab313215b682c778b",
       "toolitems": [
        [
         "Home",
         "Reset original view",
         "home",
         "home"
        ],
        [
         "Back",
         "Back to previous view",
         "arrow-left",
         "back"
        ],
        [
         "Forward",
         "Forward to next view",
         "arrow-right",
         "forward"
        ],
        [
         "Pan",
         "Pan axes with left mouse, zoom with right",
         "arrows",
         "pan"
        ],
        [
         "Zoom",
         "Zoom to rectangle",
         "square-o",
         "zoom"
        ],
        [
         "Download",
         "Download plot",
         "floppy-o",
         "save_figure"
        ]
       ]
      }
     },
     "45cd06aabfc5414f8d4ef566e0d7b455": {
      "model_module": "@jupyter-widgets/controls",
      "model_module_version": "1.5.0",
      "model_name": "SliderStyleModel",
      "state": {
       "description_width": ""
      }
     },
     "48ee043ef825459da79f4f39ae877541": {
      "model_module": "@jupyter-widgets/base",
      "model_module_version": "1.2.0",
      "model_name": "LayoutModel",
      "state": {}
     },
     "4bc74562447442eabd23e74231c11172": {
      "model_module": "@jupyter-widgets/controls",
      "model_module_version": "1.5.0",
      "model_name": "SliderStyleModel",
      "state": {
       "description_width": ""
      }
     },
     "50f02e7ea9ff43e89d2e96052a237d81": {
      "model_module": "@jupyter-widgets/base",
      "model_module_version": "1.2.0",
      "model_name": "LayoutModel",
      "state": {}
     },
     "51d1999c773343beb953e074e25617a1": {
      "model_module": "jupyter-matplotlib",
      "model_module_version": "^0.7.1",
      "model_name": "MPLCanvasModel",
      "state": {
       "_figure_label": "Figure 6",
       "_height": 480,
       "_image_mode": "diff",
       "_width": 640,
       "layout": "IPY_MODEL_082fa0c660d2496f888f1b9cd3e986a6",
       "toolbar": "IPY_MODEL_7232fdb46ad24f5b91debac38b723449",
       "toolbar_position": "left"
      }
     },
     "53daf3a5804c4c428567fe62a490976c": {
      "model_module": "jupyter-matplotlib",
      "model_module_version": "^0.7.1",
      "model_name": "MPLCanvasModel",
      "state": {
       "_figure_label": "Figure 7",
       "_height": 480,
       "_width": 640,
       "layout": "IPY_MODEL_759964bbe5054641ba481558075ebaaf",
       "toolbar": "IPY_MODEL_e28fa5f11b9247f09cda112ecc33aa1c",
       "toolbar_position": "left"
      }
     },
     "542753e36043444a948dd547437f6697": {
      "model_module": "@jupyter-widgets/controls",
      "model_module_version": "1.5.0",
      "model_name": "SliderStyleModel",
      "state": {
       "description_width": ""
      }
     },
     "54a02a1bc314467db797d0d9bff1f7cc": {
      "model_module": "jupyter-matplotlib",
      "model_module_version": "^0.7.1",
      "model_name": "MPLCanvasModel",
      "state": {
       "_figure_label": "Figure 11",
       "_height": 479,
       "_width": 640,
       "layout": "IPY_MODEL_ac9509ae07c64ee3be2356334f16b240",
       "toolbar": "IPY_MODEL_560c2f0b9f144447a49a77d3a1c64af2",
       "toolbar_position": "left"
      }
     },
     "554ee7ac98d6436d918e4ffa68216944": {
      "model_module": "@jupyter-widgets/controls",
      "model_module_version": "1.5.0",
      "model_name": "DescriptionStyleModel",
      "state": {
       "description_width": ""
      }
     },
     "560c2f0b9f144447a49a77d3a1c64af2": {
      "model_module": "jupyter-matplotlib",
      "model_module_version": "^0.7.1",
      "model_name": "ToolbarModel",
      "state": {
       "layout": "IPY_MODEL_b0fc58492238454cb223260468668a61",
       "toolitems": [
        [
         "Home",
         "Reset original view",
         "home",
         "home"
        ],
        [
         "Back",
         "Back to previous view",
         "arrow-left",
         "back"
        ],
        [
         "Forward",
         "Forward to next view",
         "arrow-right",
         "forward"
        ],
        [
         "Pan",
         "Pan axes with left mouse, zoom with right",
         "arrows",
         "pan"
        ],
        [
         "Zoom",
         "Zoom to rectangle",
         "square-o",
         "zoom"
        ],
        [
         "Download",
         "Download plot",
         "floppy-o",
         "save_figure"
        ]
       ]
      }
     },
     "565c455c2f174b8fb80988baed79fc9e": {
      "model_module": "@jupyter-widgets/base",
      "model_module_version": "1.2.0",
      "model_name": "LayoutModel",
      "state": {}
     },
     "59186894150e464dadd6a7246ed339df": {
      "model_module": "@jupyter-widgets/base",
      "model_module_version": "1.2.0",
      "model_name": "LayoutModel",
      "state": {}
     },
     "5a8073aed9034bb7aab38a7291982017": {
      "model_module": "@jupyter-widgets/base",
      "model_module_version": "1.2.0",
      "model_name": "LayoutModel",
      "state": {}
     },
     "5c4d85711dcd44d6b72c14191b1b5ffd": {
      "model_module": "jupyter-matplotlib",
      "model_module_version": "^0.7.1",
      "model_name": "ToolbarModel",
      "state": {
       "layout": "IPY_MODEL_b5030d399ac348f0b98cda8ad4493737",
       "toolitems": [
        [
         "Home",
         "Reset original view",
         "home",
         "home"
        ],
        [
         "Back",
         "Back to previous view",
         "arrow-left",
         "back"
        ],
        [
         "Forward",
         "Forward to next view",
         "arrow-right",
         "forward"
        ],
        [
         "Pan",
         "Pan axes with left mouse, zoom with right",
         "arrows",
         "pan"
        ],
        [
         "Zoom",
         "Zoom to rectangle",
         "square-o",
         "zoom"
        ],
        [
         "Download",
         "Download plot",
         "floppy-o",
         "save_figure"
        ]
       ]
      }
     },
     "634a5c139a6f4e0a90faecc71a829e9b": {
      "model_module": "jupyter-matplotlib",
      "model_module_version": "^0.7.1",
      "model_name": "MPLCanvasModel",
      "state": {
       "_figure_label": "Figure 3",
       "_height": 480,
       "_image_mode": "diff",
       "_message": "x=2.19088      y=-44.1617    ",
       "_width": 640,
       "layout": "IPY_MODEL_0d5867bfc052465baf88586fa0c918b4",
       "toolbar": "IPY_MODEL_8373830e74394044a742cf66b704aae8",
       "toolbar_position": "left"
      }
     },
     "63a79c0488d84f7b97a2055b623fa76c": {
      "model_module": "@jupyter-widgets/base",
      "model_module_version": "1.2.0",
      "model_name": "LayoutModel",
      "state": {
       "grid_area": "center",
       "min_height": "400px"
      }
     },
     "6401d59824154e25b3551fb1900175cf": {
      "model_module": "@jupyter-widgets/base",
      "model_module_version": "1.2.0",
      "model_name": "LayoutModel",
      "state": {}
     },
     "64c82db849284d379b55a3b3befa53d1": {
      "model_module": "jupyter-matplotlib",
      "model_module_version": "^0.7.1",
      "model_name": "MPLCanvasModel",
      "state": {
       "_figure_label": "Figure 19",
       "_height": 479,
       "_image_mode": "diff",
       "_width": 640,
       "header_visible": false,
       "layout": "IPY_MODEL_d8c9da0b66284c3e8d3bfe9452519417",
       "toolbar": "IPY_MODEL_f2acef982a504c6089f47b3df4cc4eb7",
       "toolbar_position": "left"
      }
     },
     "664f533276db45d89b3cffefca7ef901": {
      "model_module": "@jupyter-widgets/base",
      "model_module_version": "1.2.0",
      "model_name": "LayoutModel",
      "state": {
       "grid_area": "footer",
       "margin": "0px 30% 0px 30%",
       "width": "40%"
      }
     },
     "686d56e03d9e48e2a970a43a8cec708b": {
      "model_module": "jupyter-matplotlib",
      "model_module_version": "^0.7.1",
      "model_name": "MPLCanvasModel",
      "state": {
       "_figure_label": "Figure 1",
       "_height": 480,
       "_image_mode": "diff",
       "_width": 640,
       "layout": "IPY_MODEL_5a8073aed9034bb7aab38a7291982017",
       "toolbar": "IPY_MODEL_f7b3cd447f9e43c0a060ea3bf63d9596",
       "toolbar_position": "left"
      }
     },
     "695fe3fd01e745009e472397da8c990d": {
      "model_module": "@jupyter-widgets/base",
      "model_module_version": "1.2.0",
      "model_name": "LayoutModel",
      "state": {}
     },
     "6b3b0e566a04417298c60fe7456e3604": {
      "model_module": "@jupyter-widgets/base",
      "model_module_version": "1.2.0",
      "model_name": "LayoutModel",
      "state": {}
     },
     "6d65a0a0ed81446f955d19e24915f0a1": {
      "model_module": "@jupyter-widgets/controls",
      "model_module_version": "1.5.0",
      "model_name": "FloatSliderModel",
      "state": {
       "description": "Factor:",
       "layout": "IPY_MODEL_0d0553d821414a7faa8df9f75bd41ea5",
       "max": 2,
       "min": 0.02,
       "step": 0.1,
       "style": "IPY_MODEL_120b4f1c13054c4382c9ab9ca68b6e26",
       "value": 1
      }
     },
     "6d806a4cf1bc4f748c88bf95f0813d5a": {
      "model_module": "@jupyter-widgets/base",
      "model_module_version": "1.2.0",
      "model_name": "LayoutModel",
      "state": {}
     },
     "6dcd71e4073e416c9d0f0169867323be": {
      "model_module": "@jupyter-widgets/base",
      "model_module_version": "1.2.0",
      "model_name": "LayoutModel",
      "state": {}
     },
     "6f1c0620b4c54472a31ad6e080a0d8ad": {
      "model_module": "@jupyter-widgets/controls",
      "model_module_version": "1.5.0",
      "model_name": "IntSliderModel",
      "state": {
       "layout": "IPY_MODEL_c34625b68ff7471191afb0b6d9512202",
       "readout": false,
       "style": "IPY_MODEL_45cd06aabfc5414f8d4ef566e0d7b455"
      }
     },
     "6f8c1f08484f40e09eeb41ebedf339b6": {
      "model_module": "@jupyter-widgets/base",
      "model_module_version": "1.2.0",
      "model_name": "LayoutModel",
      "state": {}
     },
     "7021d1d6f3164faeb8e37df0310e65d6": {
      "model_module": "@jupyter-widgets/controls",
      "model_module_version": "1.5.0",
      "model_name": "GridBoxModel",
      "state": {
       "children": [
        "IPY_MODEL_32592ffc64fd478d8a4aa2dccb0d8ade",
        "IPY_MODEL_0b9d4b1ac7d84c5e99a70bee7bd438bd"
       ],
       "layout": "IPY_MODEL_9e2d33ae17654457845e88667d279c38"
      }
     },
     "70c1250fc129470b91397847f4e4ee50": {
      "model_module": "@jupyter-widgets/base",
      "model_module_version": "1.2.0",
      "model_name": "LayoutModel",
      "state": {}
     },
     "718aec26816d4dba82381fa85ab9aeb3": {
      "model_module": "@jupyter-widgets/base",
      "model_module_version": "1.2.0",
      "model_name": "LayoutModel",
      "state": {}
     },
     "7232fdb46ad24f5b91debac38b723449": {
      "model_module": "jupyter-matplotlib",
      "model_module_version": "^0.7.1",
      "model_name": "ToolbarModel",
      "state": {
       "layout": "IPY_MODEL_ce94161f85224ba0b9dfec291d223b4e",
       "toolitems": [
        [
         "Home",
         "Reset original view",
         "home",
         "home"
        ],
        [
         "Back",
         "Back to previous view",
         "arrow-left",
         "back"
        ],
        [
         "Forward",
         "Forward to next view",
         "arrow-right",
         "forward"
        ],
        [
         "Pan",
         "Pan axes with left mouse, zoom with right",
         "arrows",
         "pan"
        ],
        [
         "Zoom",
         "Zoom to rectangle",
         "square-o",
         "zoom"
        ],
        [
         "Download",
         "Download plot",
         "floppy-o",
         "save_figure"
        ]
       ]
      }
     },
     "72c38b758cad4b4b8cf07d32c5b5d8f6": {
      "model_module": "jupyter-matplotlib",
      "model_module_version": "^0.7.1",
      "model_name": "ToolbarModel",
      "state": {
       "layout": "IPY_MODEL_6d806a4cf1bc4f748c88bf95f0813d5a",
       "toolitems": [
        [
         "Home",
         "Reset original view",
         "home",
         "home"
        ],
        [
         "Back",
         "Back to previous view",
         "arrow-left",
         "back"
        ],
        [
         "Forward",
         "Forward to next view",
         "arrow-right",
         "forward"
        ],
        [
         "Pan",
         "Pan axes with left mouse, zoom with right",
         "arrows",
         "pan"
        ],
        [
         "Zoom",
         "Zoom to rectangle",
         "square-o",
         "zoom"
        ],
        [
         "Download",
         "Download plot",
         "floppy-o",
         "save_figure"
        ]
       ]
      }
     },
     "73168d63abdb4817ba4d2a5548ffb045": {
      "model_module": "jupyter-matplotlib",
      "model_module_version": "^0.7.1",
      "model_name": "ToolbarModel",
      "state": {
       "layout": "IPY_MODEL_695fe3fd01e745009e472397da8c990d",
       "toolitems": [
        [
         "Home",
         "Reset original view",
         "home",
         "home"
        ],
        [
         "Back",
         "Back to previous view",
         "arrow-left",
         "back"
        ],
        [
         "Forward",
         "Forward to next view",
         "arrow-right",
         "forward"
        ],
        [
         "Pan",
         "Pan axes with left mouse, zoom with right",
         "arrows",
         "pan"
        ],
        [
         "Zoom",
         "Zoom to rectangle",
         "square-o",
         "zoom"
        ],
        [
         "Download",
         "Download plot",
         "floppy-o",
         "save_figure"
        ]
       ]
      }
     },
     "74677ed96339475a9085fd644ab28682": {
      "model_module": "@jupyter-widgets/controls",
      "model_module_version": "1.5.0",
      "model_name": "IntSliderModel",
      "state": {
       "layout": "IPY_MODEL_113d558b91564e348c6aaa2eec19b10d",
       "readout": false,
       "style": "IPY_MODEL_78433a4753e843f198f48719c321a24d",
       "value": 11
      }
     },
     "759964bbe5054641ba481558075ebaaf": {
      "model_module": "@jupyter-widgets/base",
      "model_module_version": "1.2.0",
      "model_name": "LayoutModel",
      "state": {}
     },
     "75a9519e04504fc0b04188d18829afa3": {
      "model_module": "@jupyter-widgets/controls",
      "model_module_version": "1.5.0",
      "model_name": "FloatSliderModel",
      "state": {
       "description": "Factor:",
       "layout": "IPY_MODEL_37abca62f7b84ed2bee43f8d0fcecfb8",
       "max": 2,
       "min": 0.02,
       "step": 0.1,
       "style": "IPY_MODEL_d975cc1259b54fd2baa922c3981b0a81",
       "value": 1
      }
     },
     "776e43583c934c078343d153a6be9c02": {
      "model_module": "@jupyter-widgets/controls",
      "model_module_version": "1.5.0",
      "model_name": "GridBoxModel",
      "state": {
       "children": [
        "IPY_MODEL_75a9519e04504fc0b04188d18829afa3",
        "IPY_MODEL_de1af271cfee467b88df5391a7c78c9a"
       ],
       "layout": "IPY_MODEL_34cc5e88591543e7b5c70e1715a5f6bc"
      }
     },
     "78433a4753e843f198f48719c321a24d": {
      "model_module": "@jupyter-widgets/controls",
      "model_module_version": "1.5.0",
      "model_name": "SliderStyleModel",
      "state": {
       "description_width": ""
      }
     },
     "7ca31fc9255b4fdea8d0c1f75e893e2b": {
      "model_module": "@jupyter-widgets/controls",
      "model_module_version": "1.5.0",
      "model_name": "HBoxModel",
      "state": {
       "children": [
        "IPY_MODEL_9eb6e6d099f04f20b66fbe2e650a59b4",
        "IPY_MODEL_a1e0c8630807409b9e50d1b95a0a3f46"
       ],
       "layout": "IPY_MODEL_1fb01848c05446d182d3b403a12f7103"
      }
     },
     "7ecde7e78fde4d7cb5db50a874d2d502": {
      "model_module": "@jupyter-widgets/controls",
      "model_module_version": "1.5.0",
      "model_name": "DescriptionStyleModel",
      "state": {
       "description_width": ""
      }
     },
     "8373830e74394044a742cf66b704aae8": {
      "model_module": "jupyter-matplotlib",
      "model_module_version": "^0.7.1",
      "model_name": "ToolbarModel",
      "state": {
       "layout": "IPY_MODEL_1670319bf02c4f03bd3528176730af1e",
       "toolitems": [
        [
         "Home",
         "Reset original view",
         "home",
         "home"
        ],
        [
         "Back",
         "Back to previous view",
         "arrow-left",
         "back"
        ],
        [
         "Forward",
         "Forward to next view",
         "arrow-right",
         "forward"
        ],
        [
         "Pan",
         "Pan axes with left mouse, zoom with right",
         "arrows",
         "pan"
        ],
        [
         "Zoom",
         "Zoom to rectangle",
         "square-o",
         "zoom"
        ],
        [
         "Download",
         "Download plot",
         "floppy-o",
         "save_figure"
        ]
       ]
      }
     },
     "9024c2631c3a46238180aa3841d335c8": {
      "model_module": "@jupyter-widgets/base",
      "model_module_version": "1.2.0",
      "model_name": "LayoutModel",
      "state": {}
     },
     "9052ac2d273943b7a78c05c21a041d9b": {
      "model_module": "jupyter-matplotlib",
      "model_module_version": "^0.7.1",
      "model_name": "MPLCanvasModel",
      "state": {
       "_figure_label": "Figure 2",
       "_height": 480,
       "_image_mode": "diff",
       "_width": 640,
       "layout": "IPY_MODEL_d4dbcc602869483cbb5a65b5c1ebc877",
       "toolbar": "IPY_MODEL_73168d63abdb4817ba4d2a5548ffb045",
       "toolbar_position": "left"
      }
     },
     "94fe2782e8574a3d8b6b5db2ae872073": {
      "model_module": "jupyter-matplotlib",
      "model_module_version": "^0.7.1",
      "model_name": "MPLCanvasModel",
      "state": {
       "_figure_label": "Figure 8",
       "_height": 480,
       "_width": 640,
       "layout": "IPY_MODEL_c0382a92939c45d8b7c3900324aa7a76",
       "toolbar": "IPY_MODEL_72c38b758cad4b4b8cf07d32c5b5d8f6",
       "toolbar_position": "left"
      }
     },
     "987dbd49106f443281bc9223230d4a4f": {
      "model_module": "jupyter-matplotlib",
      "model_module_version": "^0.7.1",
      "model_name": "MPLCanvasModel",
      "state": {
       "_figure_label": "Figure 14",
       "_height": 479,
       "_width": 640,
       "layout": "IPY_MODEL_08269a3e72204b9689624f48c13d050e",
       "toolbar": "IPY_MODEL_f2effb73618b44cc92bc9a7f20514661",
       "toolbar_position": "left"
      }
     },
     "98f8059323394cf3973ee4f0157ea3cc": {
      "model_module": "jupyter-matplotlib",
      "model_module_version": "^0.7.1",
      "model_name": "ToolbarModel",
      "state": {
       "layout": "IPY_MODEL_1153c085545845b5ad15924971404273",
       "toolitems": [
        [
         "Home",
         "Reset original view",
         "home",
         "home"
        ],
        [
         "Back",
         "Back to previous view",
         "arrow-left",
         "back"
        ],
        [
         "Forward",
         "Forward to next view",
         "arrow-right",
         "forward"
        ],
        [
         "Pan",
         "Pan axes with left mouse, zoom with right",
         "arrows",
         "pan"
        ],
        [
         "Zoom",
         "Zoom to rectangle",
         "square-o",
         "zoom"
        ],
        [
         "Download",
         "Download plot",
         "floppy-o",
         "save_figure"
        ]
       ]
      }
     },
     "9a99256c66374db9b6f0fec78ea87e58": {
      "model_module": "@jupyter-widgets/base",
      "model_module_version": "1.2.0",
      "model_name": "LayoutModel",
      "state": {}
     },
     "9df7c799d22f423c8384691cee4adec4": {
      "model_module": "@jupyter-widgets/base",
      "model_module_version": "1.2.0",
      "model_name": "LayoutModel",
      "state": {}
     },
     "9e2d33ae17654457845e88667d279c38": {
      "model_module": "@jupyter-widgets/base",
      "model_module_version": "1.2.0",
      "model_name": "LayoutModel",
      "state": {
       "grid_template_areas": "\"center center center\"\n\"footer footer footer\"",
       "grid_template_columns": "1fr 2fr 1fr",
       "grid_template_rows": "6fr 1fr"
      }
     },
     "9e76261b68554355afa6f2ad818c85ef": {
      "model_module": "jupyter-matplotlib",
      "model_module_version": "^0.7.1",
      "model_name": "ToolbarModel",
      "state": {
       "layout": "IPY_MODEL_d2a55f74d74e4aa88bcd37e4c7c55ff2",
       "toolitems": [
        [
         "Home",
         "Reset original view",
         "home",
         "home"
        ],
        [
         "Back",
         "Back to previous view",
         "arrow-left",
         "back"
        ],
        [
         "Forward",
         "Forward to next view",
         "arrow-right",
         "forward"
        ],
        [
         "Pan",
         "Pan axes with left mouse, zoom with right",
         "arrows",
         "pan"
        ],
        [
         "Zoom",
         "Zoom to rectangle",
         "square-o",
         "zoom"
        ],
        [
         "Download",
         "Download plot",
         "floppy-o",
         "save_figure"
        ]
       ]
      }
     },
     "9e79113696b04aa8b0ec7f7122b6e934": {
      "model_module": "@jupyter-widgets/controls",
      "model_module_version": "1.5.0",
      "model_name": "VBoxModel",
      "state": {
       "children": [
        "IPY_MODEL_7ca31fc9255b4fdea8d0c1f75e893e2b",
        "IPY_MODEL_15b5d244474346f582e9e6b711ceff72"
       ],
       "layout": "IPY_MODEL_6401d59824154e25b3551fb1900175cf"
      }
     },
     "9eb6e6d099f04f20b66fbe2e650a59b4": {
      "model_module": "@jupyter-widgets/controls",
      "model_module_version": "1.5.0",
      "model_name": "IntSliderModel",
      "state": {
       "layout": "IPY_MODEL_a5b80a18f6284ecf94196522347e7051",
       "readout": false,
       "style": "IPY_MODEL_4bc74562447442eabd23e74231c11172",
       "value": 24
      }
     },
     "a15bf9cd25194d67a8983035ba886671": {
      "model_module": "@jupyter-widgets/controls",
      "model_module_version": "1.5.0",
      "model_name": "DescriptionStyleModel",
      "state": {
       "description_width": ""
      }
     },
     "a1e0c8630807409b9e50d1b95a0a3f46": {
      "model_module": "@jupyter-widgets/controls",
      "model_module_version": "1.5.0",
      "model_name": "LabelModel",
      "state": {
       "layout": "IPY_MODEL_50f02e7ea9ff43e89d2e96052a237d81",
       "style": "IPY_MODEL_a15bf9cd25194d67a8983035ba886671",
       "value": "3.2"
      }
     },
     "a470870e41ad43f08f41b661eae35f94": {
      "model_module": "@jupyter-widgets/base",
      "model_module_version": "1.2.0",
      "model_name": "LayoutModel",
      "state": {}
     },
     "a518b49fed1c42f6b049df6984b62e07": {
      "model_module": "@jupyter-widgets/base",
      "model_module_version": "1.2.0",
      "model_name": "LayoutModel",
      "state": {
       "grid_area": "center",
       "min_height": "400px"
      }
     },
     "a5b80a18f6284ecf94196522347e7051": {
      "model_module": "@jupyter-widgets/base",
      "model_module_version": "1.2.0",
      "model_name": "LayoutModel",
      "state": {}
     },
     "ac9509ae07c64ee3be2356334f16b240": {
      "model_module": "@jupyter-widgets/base",
      "model_module_version": "1.2.0",
      "model_name": "LayoutModel",
      "state": {}
     },
     "b0fc58492238454cb223260468668a61": {
      "model_module": "@jupyter-widgets/base",
      "model_module_version": "1.2.0",
      "model_name": "LayoutModel",
      "state": {}
     },
     "b5030d399ac348f0b98cda8ad4493737": {
      "model_module": "@jupyter-widgets/base",
      "model_module_version": "1.2.0",
      "model_name": "LayoutModel",
      "state": {}
     },
     "b56fea521cba4df9b0b8c727ca08b468": {
      "model_module": "@jupyter-widgets/controls",
      "model_module_version": "1.5.0",
      "model_name": "LabelModel",
      "state": {
       "layout": "IPY_MODEL_6b3b0e566a04417298c60fe7456e3604",
       "style": "IPY_MODEL_554ee7ac98d6436d918e4ffa68216944",
       "value": "1.0"
      }
     },
     "bd3a6760b400456fb532ea6db9f460fb": {
      "model_module": "@jupyter-widgets/base",
      "model_module_version": "1.2.0",
      "model_name": "LayoutModel",
      "state": {
       "grid_template_areas": "\"center center center\"\n\"footer footer footer\"",
       "grid_template_columns": "1fr 2fr 1fr",
       "grid_template_rows": "6fr 1fr"
      }
     },
     "c018446840cd43b39655118fa1cddd06": {
      "model_module": "jupyter-matplotlib",
      "model_module_version": "^0.7.1",
      "model_name": "MPLCanvasModel",
      "state": {
       "_figure_label": "Figure 17",
       "_height": 479,
       "_image_mode": "diff",
       "_width": 640,
       "header_visible": false,
       "layout": "IPY_MODEL_63a79c0488d84f7b97a2055b623fa76c",
       "toolbar": "IPY_MODEL_339b64504af04022962ee9db1aa0ebe0",
       "toolbar_position": "left"
      }
     },
     "c0382a92939c45d8b7c3900324aa7a76": {
      "model_module": "@jupyter-widgets/base",
      "model_module_version": "1.2.0",
      "model_name": "LayoutModel",
      "state": {}
     },
     "c292e45dbaab49d7b44816ff7a3a75ca": {
      "model_module": "jupyter-matplotlib",
      "model_module_version": "^0.7.1",
      "model_name": "ToolbarModel",
      "state": {
       "layout": "IPY_MODEL_27a316186ee14c168517976bfd0a23c5",
       "toolitems": [
        [
         "Home",
         "Reset original view",
         "home",
         "home"
        ],
        [
         "Back",
         "Back to previous view",
         "arrow-left",
         "back"
        ],
        [
         "Forward",
         "Forward to next view",
         "arrow-right",
         "forward"
        ],
        [
         "Pan",
         "Pan axes with left mouse, zoom with right",
         "arrows",
         "pan"
        ],
        [
         "Zoom",
         "Zoom to rectangle",
         "square-o",
         "zoom"
        ],
        [
         "Download",
         "Download plot",
         "floppy-o",
         "save_figure"
        ]
       ]
      }
     },
     "c34625b68ff7471191afb0b6d9512202": {
      "model_module": "@jupyter-widgets/base",
      "model_module_version": "1.2.0",
      "model_name": "LayoutModel",
      "state": {}
     },
     "c4e92639674649c5b90b20505a649fa5": {
      "model_module": "@jupyter-widgets/base",
      "model_module_version": "1.2.0",
      "model_name": "LayoutModel",
      "state": {}
     },
     "cb5091b2076c42528b1c41f8fcaa1bc3": {
      "model_module": "@jupyter-widgets/controls",
      "model_module_version": "1.5.0",
      "model_name": "VBoxModel",
      "state": {
       "children": [
        "IPY_MODEL_10b7497472a547049dab0891f2c739bb",
        "IPY_MODEL_9052ac2d273943b7a78c05c21a041d9b"
       ],
       "layout": "IPY_MODEL_48ee043ef825459da79f4f39ae877541"
      }
     },
     "ccdd617374a143abb86e14d6c0f9a94c": {
      "model_module": "@jupyter-widgets/base",
      "model_module_version": "1.2.0",
      "model_name": "LayoutModel",
      "state": {}
     },
     "ce94161f85224ba0b9dfec291d223b4e": {
      "model_module": "@jupyter-widgets/base",
      "model_module_version": "1.2.0",
      "model_name": "LayoutModel",
      "state": {}
     },
     "d0ec85f98b1240e28d3657a188402e4a": {
      "model_module": "jupyter-matplotlib",
      "model_module_version": "^0.7.1",
      "model_name": "MPLCanvasModel",
      "state": {
       "_figure_label": "Figure 5",
       "_height": 480,
       "_width": 640,
       "layout": "IPY_MODEL_6dcd71e4073e416c9d0f0169867323be",
       "toolbar": "IPY_MODEL_44aad3f4e9e445eaaaeb7cd1083e4596",
       "toolbar_position": "left"
      }
     },
     "d1267fd9bcd446f4a488138773b929d3": {
      "model_module": "@jupyter-widgets/controls",
      "model_module_version": "1.5.0",
      "model_name": "SliderStyleModel",
      "state": {
       "description_width": ""
      }
     },
     "d2a55f74d74e4aa88bcd37e4c7c55ff2": {
      "model_module": "@jupyter-widgets/base",
      "model_module_version": "1.2.0",
      "model_name": "LayoutModel",
      "state": {}
     },
     "d2ebef9dd30e41e4bd963ebe47683e46": {
      "model_module": "@jupyter-widgets/controls",
      "model_module_version": "1.5.0",
      "model_name": "HBoxModel",
      "state": {
       "children": [
        "IPY_MODEL_6f1c0620b4c54472a31ad6e080a0d8ad",
        "IPY_MODEL_b56fea521cba4df9b0b8c727ca08b468"
       ],
       "layout": "IPY_MODEL_d80c6abe4f034d098e984f4c56cdf633"
      }
     },
     "d35d65dbc6904d97b688afba843c6c87": {
      "model_module": "@jupyter-widgets/controls",
      "model_module_version": "1.5.0",
      "model_name": "VBoxModel",
      "state": {
       "children": [
        "IPY_MODEL_d2ebef9dd30e41e4bd963ebe47683e46",
        "IPY_MODEL_686d56e03d9e48e2a970a43a8cec708b"
       ],
       "layout": "IPY_MODEL_ccdd617374a143abb86e14d6c0f9a94c"
      }
     },
     "d4dbcc602869483cbb5a65b5c1ebc877": {
      "model_module": "@jupyter-widgets/base",
      "model_module_version": "1.2.0",
      "model_name": "LayoutModel",
      "state": {}
     },
     "d59a0cf7bb8e48118b70285ccda33361": {
      "model_module": "jupyter-matplotlib",
      "model_module_version": "^0.7.1",
      "model_name": "ToolbarModel",
      "state": {
       "layout": "IPY_MODEL_db158e6dc7634ea6a0df0cd055af77eb",
       "toolitems": [
        [
         "Home",
         "Reset original view",
         "home",
         "home"
        ],
        [
         "Back",
         "Back to previous view",
         "arrow-left",
         "back"
        ],
        [
         "Forward",
         "Forward to next view",
         "arrow-right",
         "forward"
        ],
        [
         "Pan",
         "Pan axes with left mouse, zoom with right",
         "arrows",
         "pan"
        ],
        [
         "Zoom",
         "Zoom to rectangle",
         "square-o",
         "zoom"
        ],
        [
         "Download",
         "Download plot",
         "floppy-o",
         "save_figure"
        ]
       ]
      }
     },
     "d618d34d4256421bbe9a05a806b4eb9f": {
      "model_module": "jupyter-matplotlib",
      "model_module_version": "^0.7.1",
      "model_name": "MPLCanvasModel",
      "state": {
       "_figure_label": "Figure 10",
       "_height": 480,
       "_width": 640,
       "layout": "IPY_MODEL_6f8c1f08484f40e09eeb41ebedf339b6",
       "toolbar": "IPY_MODEL_1dfd8f80c2ae4053b678d73359d996f8",
       "toolbar_position": "left"
      }
     },
     "d748c9c79d3a411a8d8613417b4eb8c6": {
      "model_module": "@jupyter-widgets/base",
      "model_module_version": "1.2.0",
      "model_name": "LayoutModel",
      "state": {}
     },
     "d80c6abe4f034d098e984f4c56cdf633": {
      "model_module": "@jupyter-widgets/base",
      "model_module_version": "1.2.0",
      "model_name": "LayoutModel",
      "state": {}
     },
     "d8c9da0b66284c3e8d3bfe9452519417": {
      "model_module": "@jupyter-widgets/base",
      "model_module_version": "1.2.0",
      "model_name": "LayoutModel",
      "state": {
       "grid_area": "center",
       "min_height": "400px"
      }
     },
     "d975cc1259b54fd2baa922c3981b0a81": {
      "model_module": "@jupyter-widgets/controls",
      "model_module_version": "1.5.0",
      "model_name": "SliderStyleModel",
      "state": {
       "description_width": ""
      }
     },
     "db158e6dc7634ea6a0df0cd055af77eb": {
      "model_module": "@jupyter-widgets/base",
      "model_module_version": "1.2.0",
      "model_name": "LayoutModel",
      "state": {}
     },
     "dcd700f93fe34dbaae38025268e8ffe4": {
      "model_module": "@jupyter-widgets/controls",
      "model_module_version": "1.5.0",
      "model_name": "VBoxModel",
      "state": {
       "children": [
        "IPY_MODEL_072fea50cfbc4cb79e97593976e459a2",
        "IPY_MODEL_634a5c139a6f4e0a90faecc71a829e9b"
       ],
       "layout": "IPY_MODEL_d748c9c79d3a411a8d8613417b4eb8c6"
      }
     },
     "dd0a90cd69e546eead1080660472479c": {
      "model_module": "@jupyter-widgets/base",
      "model_module_version": "1.2.0",
      "model_name": "LayoutModel",
      "state": {}
     },
     "de1af271cfee467b88df5391a7c78c9a": {
      "model_module": "jupyter-matplotlib",
      "model_module_version": "^0.7.1",
      "model_name": "MPLCanvasModel",
      "state": {
       "_figure_label": "Figure 18",
       "_height": 479,
       "_width": 640,
       "header_visible": false,
       "layout": "IPY_MODEL_3e8c4f93b4694f119649220279a35d6b",
       "toolbar": "IPY_MODEL_98f8059323394cf3973ee4f0157ea3cc",
       "toolbar_position": "left"
      }
     },
     "de38f0287ba64c3e8ca21e58bf8eaaa9": {
      "model_module": "jupyter-matplotlib",
      "model_module_version": "^0.7.1",
      "model_name": "ToolbarModel",
      "state": {
       "layout": "IPY_MODEL_f2c9c7f10ede4d37bff1da06e6d86e58",
       "toolitems": [
        [
         "Home",
         "Reset original view",
         "home",
         "home"
        ],
        [
         "Back",
         "Back to previous view",
         "arrow-left",
         "back"
        ],
        [
         "Forward",
         "Forward to next view",
         "arrow-right",
         "forward"
        ],
        [
         "Pan",
         "Pan axes with left mouse, zoom with right",
         "arrows",
         "pan"
        ],
        [
         "Zoom",
         "Zoom to rectangle",
         "square-o",
         "zoom"
        ],
        [
         "Download",
         "Download plot",
         "floppy-o",
         "save_figure"
        ]
       ]
      }
     },
     "ded15ee50c244c71a11aaa28980bb5ae": {
      "model_module": "@jupyter-widgets/base",
      "model_module_version": "1.2.0",
      "model_name": "LayoutModel",
      "state": {}
     },
     "ded1b2af264f4f758269e9c44fa0d56b": {
      "model_module": "@jupyter-widgets/base",
      "model_module_version": "1.2.0",
      "model_name": "LayoutModel",
      "state": {
       "grid_template_areas": "\"center center center\"\n\"footer footer footer\"",
       "grid_template_columns": "1fr 2fr 1fr",
       "grid_template_rows": "6fr 1fr"
      }
     },
     "df59648abd6047e1818f4ece48aebed3": {
      "model_module": "@jupyter-widgets/controls",
      "model_module_version": "1.5.0",
      "model_name": "GridBoxModel",
      "state": {
       "children": [
        "IPY_MODEL_6d65a0a0ed81446f955d19e24915f0a1",
        "IPY_MODEL_c018446840cd43b39655118fa1cddd06"
       ],
       "layout": "IPY_MODEL_ded1b2af264f4f758269e9c44fa0d56b"
      }
     },
     "e23c81d2ca5a4d18a68877971ae7339d": {
      "model_module": "@jupyter-widgets/base",
      "model_module_version": "1.2.0",
      "model_name": "LayoutModel",
      "state": {}
     },
     "e28fa5f11b9247f09cda112ecc33aa1c": {
      "model_module": "jupyter-matplotlib",
      "model_module_version": "^0.7.1",
      "model_name": "ToolbarModel",
      "state": {
       "layout": "IPY_MODEL_9a99256c66374db9b6f0fec78ea87e58",
       "toolitems": [
        [
         "Home",
         "Reset original view",
         "home",
         "home"
        ],
        [
         "Back",
         "Back to previous view",
         "arrow-left",
         "back"
        ],
        [
         "Forward",
         "Forward to next view",
         "arrow-right",
         "forward"
        ],
        [
         "Pan",
         "Pan axes with left mouse, zoom with right",
         "arrows",
         "pan"
        ],
        [
         "Zoom",
         "Zoom to rectangle",
         "square-o",
         "zoom"
        ],
        [
         "Download",
         "Download plot",
         "floppy-o",
         "save_figure"
        ]
       ]
      }
     },
     "e470ff0b8495496fa28775c1176836c8": {
      "model_module": "@jupyter-widgets/base",
      "model_module_version": "1.2.0",
      "model_name": "LayoutModel",
      "state": {}
     },
     "e9963ce5649a4d6cb6167c8fe68f7637": {
      "model_module": "jupyter-matplotlib",
      "model_module_version": "^0.7.1",
      "model_name": "MPLCanvasModel",
      "state": {
       "_figure_label": "Figure 13",
       "_height": 479,
       "_width": 640,
       "header_visible": false,
       "layout": "IPY_MODEL_718aec26816d4dba82381fa85ab9aeb3",
       "toolbar": "IPY_MODEL_3301c0158e8d4629b6e19ac8dc8556e6",
       "toolbar_position": "left"
      }
     },
     "f2acef982a504c6089f47b3df4cc4eb7": {
      "model_module": "jupyter-matplotlib",
      "model_module_version": "^0.7.1",
      "model_name": "ToolbarModel",
      "state": {
       "layout": "IPY_MODEL_59186894150e464dadd6a7246ed339df",
       "toolitems": [
        [
         "Home",
         "Reset original view",
         "home",
         "home"
        ],
        [
         "Back",
         "Back to previous view",
         "arrow-left",
         "back"
        ],
        [
         "Forward",
         "Forward to next view",
         "arrow-right",
         "forward"
        ],
        [
         "Pan",
         "Pan axes with left mouse, zoom with right",
         "arrows",
         "pan"
        ],
        [
         "Zoom",
         "Zoom to rectangle",
         "square-o",
         "zoom"
        ],
        [
         "Download",
         "Download plot",
         "floppy-o",
         "save_figure"
        ]
       ]
      }
     },
     "f2c9c7f10ede4d37bff1da06e6d86e58": {
      "model_module": "@jupyter-widgets/base",
      "model_module_version": "1.2.0",
      "model_name": "LayoutModel",
      "state": {}
     },
     "f2effb73618b44cc92bc9a7f20514661": {
      "model_module": "jupyter-matplotlib",
      "model_module_version": "^0.7.1",
      "model_name": "ToolbarModel",
      "state": {
       "layout": "IPY_MODEL_4038d982964545e999eeb5a7ecbb543a",
       "toolitems": [
        [
         "Home",
         "Reset original view",
         "home",
         "home"
        ],
        [
         "Back",
         "Back to previous view",
         "arrow-left",
         "back"
        ],
        [
         "Forward",
         "Forward to next view",
         "arrow-right",
         "forward"
        ],
        [
         "Pan",
         "Pan axes with left mouse, zoom with right",
         "arrows",
         "pan"
        ],
        [
         "Zoom",
         "Zoom to rectangle",
         "square-o",
         "zoom"
        ],
        [
         "Download",
         "Download plot",
         "floppy-o",
         "save_figure"
        ]
       ]
      }
     },
     "f7b3cd447f9e43c0a060ea3bf63d9596": {
      "model_module": "jupyter-matplotlib",
      "model_module_version": "^0.7.1",
      "model_name": "ToolbarModel",
      "state": {
       "layout": "IPY_MODEL_a470870e41ad43f08f41b661eae35f94",
       "toolitems": [
        [
         "Home",
         "Reset original view",
         "home",
         "home"
        ],
        [
         "Back",
         "Back to previous view",
         "arrow-left",
         "back"
        ],
        [
         "Forward",
         "Forward to next view",
         "arrow-right",
         "forward"
        ],
        [
         "Pan",
         "Pan axes with left mouse, zoom with right",
         "arrows",
         "pan"
        ],
        [
         "Zoom",
         "Zoom to rectangle",
         "square-o",
         "zoom"
        ],
        [
         "Download",
         "Download plot",
         "floppy-o",
         "save_figure"
        ]
       ]
      }
     },
     "f993546dd74f4c6999b410d75751d034": {
      "model_module": "@jupyter-widgets/controls",
      "model_module_version": "1.5.0",
      "model_name": "LabelModel",
      "state": {
       "layout": "IPY_MODEL_e23c81d2ca5a4d18a68877971ae7339d",
       "style": "IPY_MODEL_7ecde7e78fde4d7cb5db50a874d2d502",
       "value": "4.0"
      }
     },
     "fe2c4b4cd58a4be59b07fa24cce4f582": {
      "model_module": "@jupyter-widgets/base",
      "model_module_version": "1.2.0",
      "model_name": "LayoutModel",
      "state": {}
     },
     "ff09f395b2b44006a18427d7ee1d4bf8": {
      "model_module": "@jupyter-widgets/controls",
      "model_module_version": "1.5.0",
      "model_name": "LabelModel",
      "state": {
       "layout": "IPY_MODEL_202a1f4841084afcb267bddb2e8b4161",
       "style": "IPY_MODEL_3624e66829564a5f9fbf115fc31f21f0",
       "value": "2.0"
      }
     }
    },
    "version_major": 2,
    "version_minor": 0
   }
  }
 },
 "nbformat": 4,
 "nbformat_minor": 4
}
