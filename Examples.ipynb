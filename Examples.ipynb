{
 "cells": [
  {
   "cell_type": "code",
   "execution_count": 1,
   "metadata": {},
   "outputs": [],
   "source": [
    "%matplotlib widget\n",
    "import matplotlib.pyplot as plt\n",
    "import numpy as np\n",
    "from jupyter_jukebox import single_param_interact"
   ]
  },
  {
   "cell_type": "code",
   "execution_count": 7,
   "metadata": {},
   "outputs": [
    {
     "name": "stdout",
     "output_type": "stream",
     "text": [
      "\u001b[0m\u001b[01;34m.\u001b[0m/      \u001b[01;34mdist\u001b[0m/           .gitignore                 jupyter_jukebox.py\n",
      "\u001b[01;34m..\u001b[0m/     Examples.ipynb  \u001b[01;34m.ipynb_checkpoints\u001b[0m/        \u001b[01;34m__pycache__\u001b[0m/\n",
      "\u001b[01;34mbuild\u001b[0m/  \u001b[01;34m.git\u001b[0m/           \u001b[01;34mjupyter_jukebox.egg-info\u001b[0m/  setup.py\n"
     ]
    }
   ],
   "source": [
    "ls -a"
   ]
  },
  {
   "cell_type": "markdown",
   "metadata": {},
   "source": [
    "## Easy interactive line plot\n",
    "\n",
    "Below I use the wacky function $sin(x\\cdot \\tau)\\cdot x^\\tau$ in order to showcase the differences between the `stretch` and `auto` arguments to y_scale. `stretch` will never shrink the y axis but will expand it to fit larger values, while `auto` will autoscale the y axis for every new value of the parameter. You can also pass in a tuple that sets the permanent ylim.\n",
    "\n",
    "### Simplest example\n",
    "\n",
    "Here is an example with no extra arguments or styling so that the example looks nice and compact + simple."
   ]
  },
  {
   "cell_type": "code",
   "execution_count": 2,
   "metadata": {},
   "outputs": [
    {
     "data": {
      "application/vnd.jupyter.widget-view+json": {
       "model_id": "5867d9f181254a0aaa490f03770381b1",
       "version_major": 2,
       "version_minor": 0
      },
      "text/plain": [
       "VBox(children=(HBox(children=(IntSlider(value=0, readout=False), Label(value='1.0'))), Canvas(toolbar=Toolbar(…"
      ]
     },
     "metadata": {},
     "output_type": "display_data"
    }
   ],
   "source": [
    "x = np.linspace(0,np.pi,100)\n",
    "τ = np.linspace(1,10,100)\n",
    "def f(x,τ):\n",
    "    return np.sin(x*τ)*x**τ\n",
    "_ = single_param_interact(x,τ,f)"
   ]
  },
  {
   "cell_type": "markdown",
   "metadata": {},
   "source": [
    "### Styling of plot\n",
    "\n",
    "You can either use the figure and axis objects returned by the function, or if the figure is the current active figure the standard `plt.__` commands should work as expected.\n",
    "\n"
   ]
  },
  {
   "cell_type": "code",
   "execution_count": 3,
   "metadata": {},
   "outputs": [
    {
     "data": {
      "application/vnd.jupyter.widget-view+json": {
       "model_id": "d7eb439e0a374d718129b796c200fab1",
       "version_major": 2,
       "version_minor": 0
      },
      "text/plain": [
       "VBox(children=(HBox(children=(IntSlider(value=0, readout=False), Label(value='1.0'))), Canvas(toolbar=Toolbar(…"
      ]
     },
     "metadata": {},
     "output_type": "display_data"
    }
   ],
   "source": [
    "x = np.linspace(0,np.pi,100)\n",
    "τ = np.linspace(1,10,100)\n",
    "def f(x,τ):\n",
    "    return np.sin(x*τ)*x**τ\n",
    "single_param_interact(x,τ,f,y_scale='stretch',plot_kwargs={'label':'interactive!'})\n",
    "\n",
    "#you can still use plt commands if this is the active figure\n",
    "plt.ylabel('yikes a ylabel!')\n",
    "plt.title('Stretching ylims')\n",
    "\n",
    "# you can new lines - though they won't be updated interactively.\n",
    "plt.plot(x,np.sin(x),label='Added after, not interactive')\n",
    "\n",
    "_  = plt.legend() # _ to capture the annoying output that would otherwise appear\n"
   ]
  },
  {
   "cell_type": "code",
   "execution_count": 4,
   "metadata": {},
   "outputs": [
    {
     "data": {
      "application/vnd.jupyter.widget-view+json": {
       "model_id": "edf7c9bfe0a24ea7a8e8ffa01b03a3f7",
       "version_major": 2,
       "version_minor": 0
      },
      "text/plain": [
       "VBox(children=(HBox(children=(IntSlider(value=0, readout=False), Label(value='1.0'))), Canvas(toolbar=Toolbar(…"
      ]
     },
     "metadata": {},
     "output_type": "display_data"
    }
   ],
   "source": [
    "x = np.linspace(0,np.pi,100)\n",
    "τ = np.linspace(1,10,100)\n",
    "def f(x,τ):\n",
    "    return np.sin(x*τ)*x**τ\n",
    "single_param_interact(x,τ,f,y_scale='auto',plot_kwargs={'label':'interactive!'})\n",
    "\n",
    "#you can still use plt commands if this is the active figure\n",
    "plt.ylabel('yikes a ylabel!')\n",
    "plt.title('Autoscale for every value')\n",
    "\n",
    "# you can new lines - though they won't be updated interactively.\n",
    "plt.plot(x,np.sin(x),label='Added after, not interactive')\n",
    "\n",
    "_  = plt.legend() # _ to capture the annoying output that would otherwise appear\n"
   ]
  },
  {
   "cell_type": "code",
   "execution_count": 5,
   "metadata": {},
   "outputs": [
    {
     "data": {
      "application/vnd.jupyter.widget-view+json": {
       "model_id": "1cb65923babe4ff49e96bcefef6c0357",
       "version_major": 2,
       "version_minor": 0
      },
      "text/plain": [
       "VBox(children=(HBox(children=(IntSlider(value=0, readout=False), Label(value='1.0'))), Canvas(toolbar=Toolbar(…"
      ]
     },
     "metadata": {},
     "output_type": "display_data"
    }
   ],
   "source": [
    "x = np.linspace(0,np.pi,100)\n",
    "τ = np.linspace(1,10,100)\n",
    "def f(x,τ):\n",
    "    return np.sin(x*τ)*x**τ\n",
    "single_param_interact(x,τ,f,y_scale=[-3,4],plot_kwargs={'label':'interactive!'})\n",
    "\n",
    "#you can still use plt commands if this is the active figure\n",
    "plt.ylabel('yikes a ylabel!')\n",
    "plt.title('Fixed ylim')\n",
    "\n",
    "# you can new lines - though they won't be updated interactively.\n",
    "plt.plot(x,np.sin(x),label='Added after, not interactive')\n",
    "\n",
    "_  = plt.legend() # _ to capture the annoying output that would otherwise appear\n"
   ]
  }
 ],
 "metadata": {
  "kernelspec": {
   "display_name": "Python 3",
   "language": "python",
   "name": "python3"
  },
  "language_info": {
   "codemirror_mode": {
    "name": "ipython",
    "version": 3
   },
   "file_extension": ".py",
   "mimetype": "text/x-python",
   "name": "python",
   "nbconvert_exporter": "python",
   "pygments_lexer": "ipython3",
   "version": "3.7.5"
  }
 },
 "nbformat": 4,
 "nbformat_minor": 4
}
